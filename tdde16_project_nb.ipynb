{
  "nbformat": 4,
  "nbformat_minor": 0,
  "metadata": {
    "colab": {
      "name": "tdde16-project-nb.ipynb",
      "provenance": [],
      "collapsed_sections": [],
      "toc_visible": true
    },
    "kernelspec": {
      "name": "python3",
      "display_name": "Python 3"
    }
  },
  "cells": [
    {
      "cell_type": "markdown",
      "metadata": {
        "id": "1XfSlPJybiol"
      },
      "source": [
        "# Setup and loading of data"
      ]
    },
    {
      "cell_type": "code",
      "metadata": {
        "id": "fGLyUo8Sd9pQ"
      },
      "source": [
        "!pip install plotnine\n",
        "# !python -m spacy download en_core_web_lg # Does not work in google colab"
      ],
      "execution_count": null,
      "outputs": []
    },
    {
      "cell_type": "code",
      "metadata": {
        "id": "MCH31uVfmVCi"
      },
      "source": [
        "import spacy.cli\n",
        "spacy.cli.download(\"en_core_web_lg\")\n",
        "import spacy\n",
        "nlp = spacy.load('en_core_web_lg', disable=[\"tagger\", \"parser\", \"ner\", \"textcat\"])"
      ],
      "execution_count": null,
      "outputs": []
    },
    {
      "cell_type": "code",
      "metadata": {
        "id": "tTVIDRnT1pDt"
      },
      "source": [
        "import warnings\n",
        "warnings.filterwarnings('ignore')\n",
        "\n",
        "import pandas as pd\n",
        "import numpy as np\n",
        "\n",
        "\n",
        "from plotnine import *\n",
        "import matplotlib.pyplot as plt\n",
        "from sklearn.model_selection import GridSearchCV\n",
        "from sklearn.metrics import f1_score, make_scorer\n",
        "from sklearn.metrics import classification_report\n",
        "from sklearn.neighbors import NearestNeighbors\n",
        "from sklearn.feature_extraction.text import TfidfVectorizer\n",
        "from statistics import mean, median\n",
        "from sklearn.neural_network import MLPClassifier\n",
        "from sklearn.pipeline import Pipeline\n",
        "import random\n",
        "\n",
        "\n",
        "%matplotlib inline"
      ],
      "execution_count": null,
      "outputs": []
    },
    {
      "cell_type": "code",
      "metadata": {
        "id": "ogCftGqR2-JB"
      },
      "source": [
        "appInfoSource = '/content/drive/MyDrive/Skolan/TDDE16/project/Shopify-app-store-2021-01-06/apps.csv'\n",
        "reviewsTrueSource = '/content/drive/MyDrive/Skolan/TDDE16/project/Shopify-app-store-2021-01-06/truth_set_unordered_labeled_size100_FULL_V1.csv'\n",
        "keyBenefitsSource = '/content/drive/MyDrive/Skolan/TDDE16/project/Shopify-app-store-2021-01-06/key_benefits.csv'\n",
        "appInfodf = pd.read_csv(appInfoSource, encoding='utf8')\n",
        "reviewsTruedf = pd.read_csv(reviewsTrueSource, encoding='utf8')\n",
        "keyBenefitsdf = pd.read_csv(keyBenefitsSource, encoding='utf8')"
      ],
      "execution_count": null,
      "outputs": []
    },
    {
      "cell_type": "code",
      "metadata": {
        "id": "RWU9rUk9-M6-"
      },
      "source": [
        "def lines():\n",
        "  print(\"\\n---------------\\n\")\n",
        "\n",
        "# This function is used to find the name for an app given its UUID.\n",
        "# It is needed for crossreferencing\n",
        "def appName(uuid):\n",
        "  retval = appInfodf.loc[appInfodf.loc[:,\"id\"] == uuid,\"title\"].reset_index(drop = True) \n",
        "  return retval\n",
        "\n",
        "# Given an UUID this function will return all \"key benefits\" listed for that app.\n",
        "def app(uuid):\n",
        "  retval = appInfodf.loc[appInfodf.loc[:,\"id\"] == uuid].reset_index(drop = True) \n",
        "  return retval\n",
        "\n",
        "# Given an UUID this function will return all \"key benefits\" listed for that app.\n",
        "def keyBen(uuid):\n",
        "  retval = keyBenefitsdf.loc[keyBenefitsdf.loc[:,\"app_id\"] == uuid].reset_index(drop = True) \n",
        "  return retval\n",
        "\n",
        "# Given an UUID this function will return all reviews listed for that app.\n",
        "def getReviews(uuid):\n",
        "  retval = reviewsdf.loc[reviewsdf.loc[:,\"app_id\"] == uuid].reset_index(drop = True)\n",
        "  return retval  "
      ],
      "execution_count": null,
      "outputs": []
    },
    {
      "cell_type": "code",
      "metadata": {
        "colab": {
          "base_uri": "https://localhost:8080/",
          "height": 615
        },
        "id": "9_Xe_yWUV0RH",
        "outputId": "33008794-022e-4c70-cc78-1fb7300bf8de"
      },
      "source": [
        "ids = [i for i in reviewsTruedf[\"app_id\"].unique()]\n",
        "appInfodf = appInfodf[appInfodf[\"id\"].isin(ids)].reset_index(drop=True)\n",
        "appInfodf"
      ],
      "execution_count": null,
      "outputs": [
        {
          "output_type": "execute_result",
          "data": {
            "text/html": [
              "<div>\n",
              "<style scoped>\n",
              "    .dataframe tbody tr th:only-of-type {\n",
              "        vertical-align: middle;\n",
              "    }\n",
              "\n",
              "    .dataframe tbody tr th {\n",
              "        vertical-align: top;\n",
              "    }\n",
              "\n",
              "    .dataframe thead th {\n",
              "        text-align: right;\n",
              "    }\n",
              "</style>\n",
              "<table border=\"1\" class=\"dataframe\">\n",
              "  <thead>\n",
              "    <tr style=\"text-align: right;\">\n",
              "      <th></th>\n",
              "      <th>id</th>\n",
              "      <th>url</th>\n",
              "      <th>title</th>\n",
              "      <th>developer</th>\n",
              "      <th>developer_link</th>\n",
              "      <th>icon</th>\n",
              "      <th>rating</th>\n",
              "      <th>reviews_count</th>\n",
              "      <th>description_raw</th>\n",
              "      <th>description</th>\n",
              "      <th>tagline</th>\n",
              "      <th>pricing_hint</th>\n",
              "    </tr>\n",
              "  </thead>\n",
              "  <tbody>\n",
              "    <tr>\n",
              "      <th>0</th>\n",
              "      <td>94e77128-9474-4076-b4a1-2ac6b880c8f3</td>\n",
              "      <td>https://apps.shopify.com/eu-cookie-bar</td>\n",
              "      <td>EU Cookie Bar GDPR ‑ 100% FREE</td>\n",
              "      <td>Booster Apps</td>\n",
              "      <td>https://apps.shopify.com/partners/booster-apps</td>\n",
              "      <td>https://apps.shopifycdn.com/listing_images/56e...</td>\n",
              "      <td>4.3</td>\n",
              "      <td>3279</td>\n",
              "      <td>&lt;div class=\"block app-listing__detailed-descri...</td>\n",
              "      <td>Instant cookie compliance with EU law in one c...</td>\n",
              "      <td>Provide a cookie banner to EU customers. GDPR ...</td>\n",
              "      <td>NaN</td>\n",
              "    </tr>\n",
              "    <tr>\n",
              "      <th>1</th>\n",
              "      <td>4ee3c37d-7ad9-4a98-83d0-7b3ff8cf6cfb</td>\n",
              "      <td>https://apps.shopify.com/swell</td>\n",
              "      <td>Swell Loyalty &amp; Rewards</td>\n",
              "      <td>Swell Rewards</td>\n",
              "      <td>https://apps.shopify.com/partners/swell-rewards</td>\n",
              "      <td>https://apps.shopifycdn.com/listing_images/f69...</td>\n",
              "      <td>4.7</td>\n",
              "      <td>2133</td>\n",
              "      <td>&lt;div class=\"block app-listing__detailed-descri...</td>\n",
              "      <td>Yotpo Loyalty &amp; Referrals (formerly Swell Rewa...</td>\n",
              "      <td>Loyalty, Referrals &amp; Rewards by Swell (a Yotpo...</td>\n",
              "      <td>NaN</td>\n",
              "    </tr>\n",
              "    <tr>\n",
              "      <th>2</th>\n",
              "      <td>d4d7e4ca-d939-4e8a-857c-37dc62db7c22</td>\n",
              "      <td>https://apps.shopify.com/omnisend</td>\n",
              "      <td>Omnisend Email Marketing</td>\n",
              "      <td>Omnisend</td>\n",
              "      <td>https://apps.shopify.com/partners/omnisend</td>\n",
              "      <td>https://apps.shopifycdn.com/listing_images/9b0...</td>\n",
              "      <td>4.7</td>\n",
              "      <td>3697</td>\n",
              "      <td>&lt;div class=\"block app-listing__detailed-descri...</td>\n",
              "      <td>Join fellow Shopify merchants that have truste...</td>\n",
              "      <td>The All-In-One Marketing Automation Platform w...</td>\n",
              "      <td>NaN</td>\n",
              "    </tr>\n",
              "    <tr>\n",
              "      <th>3</th>\n",
              "      <td>2264513f-8aa0-4836-92b6-362976e76b54</td>\n",
              "      <td>https://apps.shopify.com/mailchimp-forms</td>\n",
              "      <td>MailChimp Forms by MailMunch</td>\n",
              "      <td>MailMunch</td>\n",
              "      <td>https://apps.shopify.com/partners/mailmunch</td>\n",
              "      <td>https://apps.shopifycdn.com/listing_images/3fc...</td>\n",
              "      <td>4.5</td>\n",
              "      <td>1289</td>\n",
              "      <td>&lt;div class=\"block app-listing__detailed-descri...</td>\n",
              "      <td>Collecting emails from your store visitors is ...</td>\n",
              "      <td>Grow your MailChimp list with exit intent popu...</td>\n",
              "      <td>NaN</td>\n",
              "    </tr>\n",
              "    <tr>\n",
              "      <th>4</th>\n",
              "      <td>c769a28f-379a-4346-8871-915b558a099d</td>\n",
              "      <td>https://apps.shopify.com/printful</td>\n",
              "      <td>Printful: Print‑on‑Demand</td>\n",
              "      <td>Printful</td>\n",
              "      <td>https://apps.shopify.com/partners/jansons</td>\n",
              "      <td>https://apps.shopifycdn.com/listing_images/3dd...</td>\n",
              "      <td>4.4</td>\n",
              "      <td>3025</td>\n",
              "      <td>&lt;div class=\"block app-listing__detailed-descri...</td>\n",
              "      <td>Partner with the #1 print-on-demand drop shipp...</td>\n",
              "      <td>Top rated print-on-demand drop shipping &amp; ware...</td>\n",
              "      <td>NaN</td>\n",
              "    </tr>\n",
              "  </tbody>\n",
              "</table>\n",
              "</div>"
            ],
            "text/plain": [
              "                                     id  ... pricing_hint\n",
              "0  94e77128-9474-4076-b4a1-2ac6b880c8f3  ...          NaN\n",
              "1  4ee3c37d-7ad9-4a98-83d0-7b3ff8cf6cfb  ...          NaN\n",
              "2  d4d7e4ca-d939-4e8a-857c-37dc62db7c22  ...          NaN\n",
              "3  2264513f-8aa0-4836-92b6-362976e76b54  ...          NaN\n",
              "4  c769a28f-379a-4346-8871-915b558a099d  ...          NaN\n",
              "\n",
              "[5 rows x 12 columns]"
            ]
          },
          "metadata": {
            "tags": []
          },
          "execution_count": 47
        }
      ]
    },
    {
      "cell_type": "code",
      "metadata": {
        "id": "sD1TQEMtE_d8",
        "colab": {
          "base_uri": "https://localhost:8080/"
        },
        "outputId": "fcb73827-e066-4a68-f31e-240b4bf726aa"
      },
      "source": [
        "# Extracting columns of interest\n",
        "reviewsTruedf = reviewsTruedf[[\"app_id\",\"rating\",\"body\",\"mentions_kb\"]]\n",
        "appInfodf = appInfodf[[\"id\",\"title\",\"reviews_count\",\"description\",\"tagline\"]]\n",
        "reviewsTruedf = reviewsTruedf[reviewsTruedf[\"mentions_kb\"] != 401]\n",
        "\n",
        "for index, row in reviewsTruedf.iterrows():\n",
        "  reviewsTruedf[\"mentions_kb\"][index] = (reviewsTruedf[\"mentions_kb\"][index] == 1)\n",
        "\n",
        "tmpid = 95\n",
        "print(reviewsTruedf.loc[tmpid][\"app_id\"])\n",
        "print(reviewsTruedf.loc[tmpid][\"body\"])\n",
        "print(reviewsTruedf.loc[tmpid][\"mentions_kb\"])\n"
      ],
      "execution_count": null,
      "outputs": [
        {
          "output_type": "stream",
          "text": [
            "2264513f-8aa0-4836-92b6-362976e76b54\n",
            "I am not sure why they haven't gotten back to me after opening multiple support tickets. The software seems great, but the popup form isn't displayed on my site, even when I try via Incognito browser. I will update the review if I hear back from them!\n",
            "They replied very quickly. Form works well :)\n",
            "True\n"
          ],
          "name": "stdout"
        }
      ]
    },
    {
      "cell_type": "code",
      "metadata": {
        "id": "8eUpN4CuPyvu"
      },
      "source": [
        "tableappInfodf = appInfodf[[\"id\",\"title\",\"reviews_count\"]]\n",
        "tableappInfodf.to_latex(index=False, caption=\"\\label{tab:apps_choosen}The 5 apps choosen for project.\")"
      ],
      "execution_count": null,
      "outputs": []
    },
    {
      "cell_type": "code",
      "metadata": {
        "id": "5PGjqfDzTCNb"
      },
      "source": [
        "tmpdf = pd.DataFrame()\n",
        "\n",
        "for id in ids:\n",
        "  tmpdf = pd.concat([tmpdf,keyBen(id)]).reset_index(drop=True)\n",
        "\n",
        "\n",
        "for index, row in tmpdf.iterrows():\n",
        "  #print(appName(row[\"app_id\"])[0])\n",
        "  #print(tmpdf.loc[index,\"app_id\"])\n",
        "  tmpdf.loc[index,\"app_id\"] = (appName(row[\"app_id\"])[0])[0:10] + \"...\"\n",
        "\n",
        "tmpdf.to_latex(caption=\"\\label{tab:key_benefits}The key benefits of choosen apps\", index=False)"
      ],
      "execution_count": null,
      "outputs": []
    },
    {
      "cell_type": "markdown",
      "metadata": {
        "id": "-IZC1xe0bo9p"
      },
      "source": [
        "# Displaying data composition"
      ]
    },
    {
      "cell_type": "code",
      "metadata": {
        "colab": {
          "base_uri": "https://localhost:8080/",
          "height": 1000
        },
        "id": "3bcV3Sborpji",
        "outputId": "e08cb4f6-0b55-4b5e-cc36-12cdcc2b3359"
      },
      "source": [
        "# Bar chart using ggplot\n",
        "\n",
        "for id in ids:\n",
        "  curid = id\n",
        "  currev_df = reviewsTruedf[reviewsTruedf[\"app_id\"]==curid].reset_index(drop=True)\n",
        "  print(ggplot(currev_df, aes('factor(mentions_kb)', fill='factor(mentions_kb)'))\n",
        "  + geom_bar()\n",
        "  + geom_text(\n",
        "     aes(label='stat(count)'),\n",
        "     stat='count',\n",
        "     nudge_y=0.125,\n",
        "     va='bottom'\n",
        "     )\n",
        "  + labs(title=appName(id)[0])\n",
        "  )\n",
        "\n",
        "  p = (\n",
        "      ggplot(currev_df, aes('factor(mentions_kb)', fill='factor(mentions_kb)'))\n",
        "  + geom_bar()\n",
        "  + geom_text(\n",
        "     aes(label='stat(count)'),\n",
        "     stat='count',\n",
        "     nudge_y=0.125,\n",
        "     va='bottom'\n",
        "     )\n",
        "  + labs(title=appName(id)[0])\n",
        "  )\n",
        "\n",
        "  ggsave(plot = p, filename = str(id) + '.png', path = '/content/drive/MyDrive/Skolan/TDDE16/project/Shopify-app-store-2021-01-06/')"
      ],
      "execution_count": null,
      "outputs": [
        {
          "output_type": "display_data",
          "data": {
            "image/png": "[encoded data removed]",
            "text/plain": [
              "<Figure size 640x480 with 1 Axes>"
            ]
          },
          "metadata": {
            "tags": []
          }
        },
        {
          "output_type": "stream",
          "text": [
            "<ggplot: (8727590963583)>\n"
          ],
          "name": "stdout"
        },
        {
          "output_type": "display_data",
          "data": {
            "image/png": "[encoded data removed]",
            "text/plain": [
              "<Figure size 640x480 with 1 Axes>"
            ]
          },
          "metadata": {
            "tags": []
          }
        },
        {
          "output_type": "stream",
          "text": [
            "<ggplot: (-9223363309285510456)>\n"
          ],
          "name": "stdout"
        },
        {
          "output_type": "display_data",
          "data": {
            "image/png": "[encoded data removed]",
            "text/plain": [
              "<Figure size 640x480 with 1 Axes>"
            ]
          },
          "metadata": {
            "tags": []
          }
        },
        {
          "output_type": "stream",
          "text": [
            "<ggplot: (8727569060700)>\n"
          ],
          "name": "stdout"
        },
        {
          "output_type": "display_data",
          "data": {
            "image/png": "[encoded data removed]",
            "text/plain": [
              "<Figure size 640x480 with 1 Axes>"
            ]
          },
          "metadata": {
            "tags": []
          }
        },
        {
          "output_type": "stream",
          "text": [
            "<ggplot: (-9223363309285228263)>\n"
          ],
          "name": "stdout"
        },
        {
          "output_type": "display_data",
          "data": {
            "image/png": "[encoded data removed]",
            "text/plain": [
              "<Figure size 640x480 with 1 Axes>"
            ]
          },
          "metadata": {
            "tags": []
          }
        },
        {
          "output_type": "stream",
          "text": [
            "<ggplot: (-9223363309239550064)>\n"
          ],
          "name": "stdout"
        }
      ]
    },
    {
      "cell_type": "code",
      "metadata": {
        "colab": {
          "base_uri": "https://localhost:8080/",
          "height": 492
        },
        "id": "VDUl8lGPF_EX",
        "outputId": "cea48d3b-ff2b-48f6-c369-3231e7ce00be"
      },
      "source": [
        "print(ggplot(reviewsTruedf, aes('factor(mentions_kb)', fill='factor(mentions_kb)'))\n",
        "  + geom_bar()\n",
        "  + geom_text(\n",
        "     aes(label='stat(count)'),\n",
        "     stat='count',\n",
        "     nudge_y=0.125,\n",
        "     va='bottom'\n",
        "     )\n",
        "  + labs(title=\"Whole dataset\")\n",
        "  )\n",
        "\n",
        "p = (ggplot(reviewsTruedf, aes('factor(mentions_kb)', fill='factor(mentions_kb)'))\n",
        "  + geom_bar()\n",
        "  + geom_text(\n",
        "     aes(label='stat(count)'),\n",
        "     stat='count',\n",
        "     nudge_y=0.125,\n",
        "     va='bottom'\n",
        "     )\n",
        "  + labs(title=\"Whole dataset\")\n",
        "  )\n",
        "\n",
        "ggsave(plot = p, filename = 'whole_set.png', path = '/content/drive/MyDrive/Skolan/TDDE16/project/Shopify-app-store-2021-01-06/')"
      ],
      "execution_count": null,
      "outputs": [
        {
          "output_type": "display_data",
          "data": {
            "image/png": "[encoded data removed]",
            "text/plain": [
              "<Figure size 640x480 with 1 Axes>"
            ]
          },
          "metadata": {
            "tags": []
          }
        },
        {
          "output_type": "stream",
          "text": [
            "<ggplot: (8727615445722)>\n"
          ],
          "name": "stdout"
        }
      ]
    },
    {
      "cell_type": "code",
      "metadata": {
        "colab": {
          "base_uri": "https://localhost:8080/",
          "height": 419
        },
        "id": "jir7jDbZnbpx",
        "outputId": "1d188ccb-ea91-46a8-aa52-72fd397ee371"
      },
      "source": [
        "reviewsTruedf.groupby(by='mentions_kb').count()\n",
        "reviewsTruedf"
      ],
      "execution_count": null,
      "outputs": [
        {
          "output_type": "execute_result",
          "data": {
            "text/html": [
              "<div>\n",
              "<style scoped>\n",
              "    .dataframe tbody tr th:only-of-type {\n",
              "        vertical-align: middle;\n",
              "    }\n",
              "\n",
              "    .dataframe tbody tr th {\n",
              "        vertical-align: top;\n",
              "    }\n",
              "\n",
              "    .dataframe thead th {\n",
              "        text-align: right;\n",
              "    }\n",
              "</style>\n",
              "<table border=\"1\" class=\"dataframe\">\n",
              "  <thead>\n",
              "    <tr style=\"text-align: right;\">\n",
              "      <th></th>\n",
              "      <th>app_id</th>\n",
              "      <th>rating</th>\n",
              "      <th>body</th>\n",
              "      <th>mentions_kb</th>\n",
              "    </tr>\n",
              "  </thead>\n",
              "  <tbody>\n",
              "    <tr>\n",
              "      <th>0</th>\n",
              "      <td>4ee3c37d-7ad9-4a98-83d0-7b3ff8cf6cfb</td>\n",
              "      <td>5.0</td>\n",
              "      <td>Very easy to setup and customize. Looking forw...</td>\n",
              "      <td>True</td>\n",
              "    </tr>\n",
              "    <tr>\n",
              "      <th>1</th>\n",
              "      <td>4ee3c37d-7ad9-4a98-83d0-7b3ff8cf6cfb</td>\n",
              "      <td>5.0</td>\n",
              "      <td>So Excited for this Feature!! :D This is what ...</td>\n",
              "      <td>True</td>\n",
              "    </tr>\n",
              "    <tr>\n",
              "      <th>2</th>\n",
              "      <td>94e77128-9474-4076-b4a1-2ac6b880c8f3</td>\n",
              "      <td>5.0</td>\n",
              "      <td>Very good regarding the use that I have of it....</td>\n",
              "      <td>False</td>\n",
              "    </tr>\n",
              "    <tr>\n",
              "      <th>3</th>\n",
              "      <td>4ee3c37d-7ad9-4a98-83d0-7b3ff8cf6cfb</td>\n",
              "      <td>5.0</td>\n",
              "      <td>I've just started using the app on my store so...</td>\n",
              "      <td>False</td>\n",
              "    </tr>\n",
              "    <tr>\n",
              "      <th>4</th>\n",
              "      <td>4ee3c37d-7ad9-4a98-83d0-7b3ff8cf6cfb</td>\n",
              "      <td>5.0</td>\n",
              "      <td>Great app.  Fairly easy to setup and activate....</td>\n",
              "      <td>True</td>\n",
              "    </tr>\n",
              "    <tr>\n",
              "      <th>...</th>\n",
              "      <td>...</td>\n",
              "      <td>...</td>\n",
              "      <td>...</td>\n",
              "      <td>...</td>\n",
              "    </tr>\n",
              "    <tr>\n",
              "      <th>495</th>\n",
              "      <td>c769a28f-379a-4346-8871-915b558a099d</td>\n",
              "      <td>4.0</td>\n",
              "      <td>COOL. Just missing mannequins displaying the c...</td>\n",
              "      <td>False</td>\n",
              "    </tr>\n",
              "    <tr>\n",
              "      <th>496</th>\n",
              "      <td>4ee3c37d-7ad9-4a98-83d0-7b3ff8cf6cfb</td>\n",
              "      <td>5.0</td>\n",
              "      <td>Easy to use, Easy to manage, and my customers ...</td>\n",
              "      <td>False</td>\n",
              "    </tr>\n",
              "    <tr>\n",
              "      <th>497</th>\n",
              "      <td>c769a28f-379a-4346-8871-915b558a099d</td>\n",
              "      <td>5.0</td>\n",
              "      <td>One of the greatest programs out there I tried...</td>\n",
              "      <td>True</td>\n",
              "    </tr>\n",
              "    <tr>\n",
              "      <th>498</th>\n",
              "      <td>4ee3c37d-7ad9-4a98-83d0-7b3ff8cf6cfb</td>\n",
              "      <td>5.0</td>\n",
              "      <td>excellent rewards program! Simple to use! www....</td>\n",
              "      <td>False</td>\n",
              "    </tr>\n",
              "    <tr>\n",
              "      <th>499</th>\n",
              "      <td>d4d7e4ca-d939-4e8a-857c-37dc62db7c22</td>\n",
              "      <td>5.0</td>\n",
              "      <td>This is a no-brainer! Absolutely fantastic pie...</td>\n",
              "      <td>True</td>\n",
              "    </tr>\n",
              "  </tbody>\n",
              "</table>\n",
              "<p>499 rows × 4 columns</p>\n",
              "</div>"
            ],
            "text/plain": [
              "                                   app_id  ...  mentions_kb\n",
              "0    4ee3c37d-7ad9-4a98-83d0-7b3ff8cf6cfb  ...         True\n",
              "1    4ee3c37d-7ad9-4a98-83d0-7b3ff8cf6cfb  ...         True\n",
              "2    94e77128-9474-4076-b4a1-2ac6b880c8f3  ...        False\n",
              "3    4ee3c37d-7ad9-4a98-83d0-7b3ff8cf6cfb  ...        False\n",
              "4    4ee3c37d-7ad9-4a98-83d0-7b3ff8cf6cfb  ...         True\n",
              "..                                    ...  ...          ...\n",
              "495  c769a28f-379a-4346-8871-915b558a099d  ...        False\n",
              "496  4ee3c37d-7ad9-4a98-83d0-7b3ff8cf6cfb  ...        False\n",
              "497  c769a28f-379a-4346-8871-915b558a099d  ...         True\n",
              "498  4ee3c37d-7ad9-4a98-83d0-7b3ff8cf6cfb  ...        False\n",
              "499  d4d7e4ca-d939-4e8a-857c-37dc62db7c22  ...         True\n",
              "\n",
              "[499 rows x 4 columns]"
            ]
          },
          "metadata": {
            "tags": []
          },
          "execution_count": 53
        }
      ]
    },
    {
      "cell_type": "markdown",
      "metadata": {
        "id": "PoLiKxRVb17U"
      },
      "source": [
        "# Starting to work on data analysis and classification"
      ]
    },
    {
      "cell_type": "markdown",
      "metadata": {
        "id": "FGnATN7n1CuZ"
      },
      "source": [
        "## Defining function for splitting data into training and testing"
      ]
    },
    {
      "cell_type": "code",
      "metadata": {
        "id": "JpET4DM-i21k"
      },
      "source": [
        "# Funtion for splitting data\n",
        "\n",
        "\n",
        "def make_test_train_split(df, test_size):\n",
        "  df = df.reset_index(drop=True)\n",
        "  len_df = len(df)\n",
        "  selection = random.sample(range(0,len_df),k=int(np.ceil(test_size * len_df)))\n",
        "  test = df.loc[df.index.isin(selection)]\n",
        "  train = df.loc[~df.index.isin(selection)]\n",
        "  # print(\"test {}, train {}, sum {}\".format(len(test),len(train), len(test)+len(train)))\n",
        "  return (test,train)\n",
        "\n",
        "def create_test_train(df, test_size = 0.33, random_state = None):\n",
        "  col_names = [col for col in df]\n",
        "  if not random_state == None:\n",
        "    # print(\"\\n---Setting seed---\\n\")\n",
        "    random.seed(a=random_state, version=2)\n",
        "  train = pd.DataFrame(columns=col_names)\n",
        "  test = pd.DataFrame(columns=col_names)\n",
        "\n",
        "  for appid in df[\"app_id\"].unique():\n",
        "    # print(appid)\n",
        "    cur_rev = df[df[\"app_id\"] == appid]\n",
        "    df_true = cur_rev[cur_rev[\"mentions_kb\"] == True]\n",
        "    df_false = cur_rev[cur_rev[\"mentions_kb\"] == False]\n",
        "    test_true, train_true = make_test_train_split(df_true, test_size)\n",
        "    test_false, train_false = make_test_train_split(df_false, test_size)\n",
        "    test = pd.concat([test, test_true,test_false])\n",
        "    train = pd.concat([train, train_true, train_false])\n",
        "    # Shuffeling the final dfs\n",
        "    test = test.sample(frac=1, random_state=random_state).reset_index(drop=True)\n",
        "    train = train.sample(frac=1, random_state=random_state).reset_index(drop=True)\n",
        "    # print(\"-------------------------------------\")\n",
        "\n",
        "  return (test,train)"
      ],
      "execution_count": null,
      "outputs": []
    },
    {
      "cell_type": "markdown",
      "metadata": {
        "id": "J0o2cYq7pv1w"
      },
      "source": [
        "## Using code from Lab 1"
      ]
    },
    {
      "cell_type": "markdown",
      "metadata": {
        "id": "2IZlI4SbXfsN"
      },
      "source": [
        "**idea:** Start by vectorizing the key benefits with tfid. Then fit each review and based on `return_distance` being closer than X to key benefit vector return this value."
      ]
    },
    {
      "cell_type": "markdown",
      "metadata": {
        "id": "DCwFiLLe8aXx"
      },
      "source": [
        "### Defining preprocess function"
      ]
    },
    {
      "cell_type": "code",
      "metadata": {
        "id": "xGmYbzYpVWRO"
      },
      "source": [
        "def preprocess(text):\n",
        "    return [token.lemma_ for token in nlp(text) if not token.is_stop and token.is_alpha]"
      ],
      "execution_count": null,
      "outputs": []
    },
    {
      "cell_type": "markdown",
      "metadata": {
        "id": "-JirFGHLR4pl"
      },
      "source": [
        "### Splitting data into train and test\n",
        "\n",
        "In this case all classified apps are used and the split is among these.\n",
        "Note that the split function takes an \"even split\" so that the pos/neg ratio is represented in the training and test set."
      ]
    },
    {
      "cell_type": "code",
      "metadata": {
        "id": "TZmLHku_SAQW"
      },
      "source": [
        "test_df, train_df = create_test_train(reviewsTruedf, test_size=0.2)"
      ],
      "execution_count": null,
      "outputs": []
    },
    {
      "cell_type": "markdown",
      "metadata": {
        "id": "D77E9RIH9WKV"
      },
      "source": [
        "### Parameter tuning"
      ]
    },
    {
      "cell_type": "code",
      "metadata": {
        "colab": {
          "base_uri": "https://localhost:8080/"
        },
        "id": "EfQXa2gd9Y9b",
        "outputId": "e69fc172-f8c2-48d1-fbda-ef4cf49d1edb"
      },
      "source": [
        "appids = [id for id in reviewsTruedf[\"app_id\"].unique()]\n",
        "\n",
        "RANDOM_STATE = 39\n",
        "\n",
        "thresholds = np.arange(0.3, 2.0, 0.01)\n",
        "\n",
        "random.seed(a=RANDOM_STATE, version=2)\n",
        "\n",
        "selection = random.sample(range(0,len(appids)),k=1)[0]\n",
        "eval_app_id = appids[selection]\n",
        "print(\"App {} is left out\".format(eval_app_id))\n",
        "index_eval = train_df[train_df[\"app_id\"]==eval_app_id].index\n",
        "eval_set = train_df.loc[train_df.index.isin(index_eval)]\n",
        "train = train_df.loc[~train_df.index.isin(index_eval)]\n",
        "\n",
        "# print(test.groupby(by='mentions_kb').count())\n",
        "\n",
        "lines()\n",
        "\n",
        "best_threshold = min(thresholds)\n",
        "best_score = 0\n",
        "\n",
        "for threshold in thresholds:\n",
        "  # print(\"Trying threshold: {}\".format(threshold))\n",
        "  preds = []\n",
        "  ys_true = []\n",
        "  individual_scores = []\n",
        "  for cur_id in train[\"app_id\"].unique():\n",
        "    # print(\"Classifying reviews for {}.\".format(cur_id))\n",
        "    \n",
        "    # Choosing app to classify\n",
        "    index_cur = train[train[\"app_id\"]==cur_id].index\n",
        "    cur_revs = train.loc[train.index.isin(index_cur)]\n",
        "    \n",
        "    # Preprocessing\n",
        "    \n",
        "    # Getting key benefits and preprocessing\n",
        "    kbdf = keyBen(cur_id)\n",
        "    kbdf[\"forvector\"] = \"\"\n",
        "    for index, row in kbdf.iterrows():\n",
        "      kbdf[\"forvector\"][index] = \"{} {}\".format(row[\"title\"],row[\"description\"])\n",
        "      # print(preprocess(kbdf[\"forvector\"][index]))\n",
        "      \n",
        "    # Generating tf-idf vector based on key benefits\n",
        "    vectorizer = TfidfVectorizer(tokenizer=preprocess)\n",
        "    X = vectorizer.fit_transform(kbdf['forvector'])\n",
        "      \n",
        "    # Fitting NearestNeighbors using vector of key benefits\n",
        "    neigh = NearestNeighbors()\n",
        "    neigh.fit(X)# Now each review fill be processed.\n",
        "    \n",
        "    ## First it will be transformed to the same vector space as the key benefits.\n",
        "    ## Secondly the distance to each of the Key benefits' vectors will be calculated\n",
        "    ## and the shortest distance will be stored.\n",
        "    reviews_min_distances = []\n",
        "    \n",
        "    for index, row in cur_revs.iterrows():\n",
        "      # Transforming to vector space\n",
        "      query = row[\"body\"]\n",
        "      queryArray = vectorizer.transform([query])\n",
        "      \n",
        "      # Calculating NearestNeighbors\n",
        "      neig_res = neigh.kneighbors(queryArray, return_distance=True, n_neighbors=len(kbdf))\n",
        "      neig_res_min_dist = min(neig_res[0][0])\n",
        "      reviews_min_distances.append((index,neig_res_min_dist))\n",
        "      \n",
        "    # Classification is now done manually using a threshold distance.\n",
        "    pred = [d[1] <= threshold for d in reviews_min_distances]\n",
        "    y_true = [val for val in cur_revs[\"mentions_kb\"]]\n",
        "    preds = preds + pred\n",
        "    ys_true = ys_true + y_true\n",
        "    individual_scores.append(f1_score(y_true, pred,pos_label=1) * f1_score(y_true, pred,pos_label=0))\n",
        "    # print(f1_score(y_true, pred,pos_label=1))\n",
        "  # Calculation f1 score for the whole set of \"training\" apps\n",
        "  # print(ys_true)\n",
        "  # print(preds)\n",
        "\n",
        "  # Scoring: Here one can use different scoring functions to get different results.\n",
        "  # cur_score = f1_score(ys_true, preds,pos_label=1) * f1_score(ys_true, preds,pos_label=0)\n",
        "  cur_score = mean(individual_scores)\n",
        "  if cur_score > best_score:\n",
        "    print(\"Increase in score from {} to {} with new threshold {}.\".format(best_score,cur_score,threshold))\n",
        "    best_threshold = threshold\n",
        "    best_score = cur_score\n",
        "    lines()\n",
        "\n",
        "print(\"best_threshold: {} gives score of: {}.\".format(best_threshold,best_score))"
      ],
      "execution_count": null,
      "outputs": [
        {
          "output_type": "stream",
          "text": [
            "App 94e77128-9474-4076-b4a1-2ac6b880c8f3 is left out\n",
            "\n",
            "---------------\n",
            "\n",
            "Increase in score from 0 to 0.011393939393939392 with new threshold 0.8100000000000005.\n",
            "\n",
            "---------------\n",
            "\n",
            "Increase in score from 0.011393939393939392 to 0.022296015180265652 with new threshold 0.8500000000000005.\n",
            "\n",
            "---------------\n",
            "\n",
            "Increase in score from 0.022296015180265652 to 0.04848093083387202 with new threshold 0.8600000000000005.\n",
            "\n",
            "---------------\n",
            "\n",
            "Increase in score from 0.04848093083387202 to 0.11710323574730354 with new threshold 0.9000000000000006.\n",
            "\n",
            "---------------\n",
            "\n",
            "Increase in score from 0.11710323574730354 to 0.1227891156462585 with new threshold 0.9400000000000006.\n",
            "\n",
            "---------------\n",
            "\n",
            "Increase in score from 0.1227891156462585 to 0.1606606047615287 with new threshold 0.9800000000000006.\n",
            "\n",
            "---------------\n",
            "\n",
            "Increase in score from 0.1606606047615287 to 0.1607942131769966 with new threshold 1.0600000000000007.\n",
            "\n",
            "---------------\n",
            "\n",
            "Increase in score from 0.1607942131769966 to 0.1613832484836119 with new threshold 1.0800000000000007.\n",
            "\n",
            "---------------\n",
            "\n",
            "Increase in score from 0.1613832484836119 to 0.17746730266055988 with new threshold 1.1000000000000008.\n",
            "\n",
            "---------------\n",
            "\n",
            "Increase in score from 0.17746730266055988 to 0.19193180388279346 with new threshold 1.1100000000000008.\n",
            "\n",
            "---------------\n",
            "\n",
            "Increase in score from 0.19193180388279346 to 0.1922697893178717 with new threshold 1.1200000000000008.\n",
            "\n",
            "---------------\n",
            "\n",
            "Increase in score from 0.1922697893178717 to 0.2006539817924257 with new threshold 1.1300000000000008.\n",
            "\n",
            "---------------\n",
            "\n",
            "best_threshold: 1.1300000000000008 gives score of: 0.2006539817924257.\n"
          ],
          "name": "stdout"
        }
      ]
    },
    {
      "cell_type": "code",
      "metadata": {
        "colab": {
          "base_uri": "https://localhost:8080/"
        },
        "id": "ToxpGdBVMceZ",
        "outputId": "9dc8e13d-4c28-468b-9eae-7d5b1fe4ac99"
      },
      "source": [
        "# Evaluating parameter tuning\n",
        "\n",
        "eval_set\n",
        "\n",
        "best_threshold_to_use = 1.1300000000000008 # gives f1 score of: 0.41089108910891087 for training set.\n",
        "\n",
        "for cur_id in eval_set[\"app_id\"].unique():\n",
        "  print(\"Classifying reviews for {}.\".format(cur_id))\n",
        "  \n",
        "  # Choosing app to classify\n",
        "  cur_revs = eval_set\n",
        "    \n",
        "  # Preprocessing\n",
        "    \n",
        "  # Getting key benefits and preprocessing\n",
        "  kbdf = keyBen(cur_id)\n",
        "  kbdf[\"forvector\"] = \"\"\n",
        "  for index, row in kbdf.iterrows():\n",
        "    kbdf[\"forvector\"][index] = \"{} {}\".format(row[\"title\"],row[\"description\"])\n",
        "    # print(preprocess(kbdf[\"forvector\"][index]))\n",
        "      \n",
        "  # Generating tf-idf vector based on key benefits\n",
        "  vectorizer = TfidfVectorizer(tokenizer=preprocess)\n",
        "  X = vectorizer.fit_transform(kbdf['forvector'])\n",
        "      \n",
        "  # Fitting NearestNeighbors using vector of key benefits\n",
        "  neigh = NearestNeighbors()\n",
        "  neigh.fit(X)# Now each review fill be processed.\n",
        "    \n",
        "  ## First it will be transformed to the same vector space as the key benefits.\n",
        "  ## Secondly the distance to each of the Key benefits' vectors will be calculated\n",
        "  ## and the shortest distance will be stored.\n",
        "  reviews_min_distances = []\n",
        "    \n",
        "  for index, row in cur_revs.iterrows():\n",
        "    # Transforming to vector space\n",
        "    query = row[\"body\"]\n",
        "    queryArray = vectorizer.transform([query])\n",
        "      \n",
        "    # Calculating NearestNeighbors\n",
        "    neig_res = neigh.kneighbors(queryArray, return_distance=True, n_neighbors=len(kbdf))\n",
        "    neig_res_min_dist = min(neig_res[0][0])\n",
        "    reviews_min_distances.append((index,neig_res_min_dist))\n",
        "      \n",
        "  # Classification is now done manually using a threshold distance.\n",
        "  pred = [d[1] <= best_threshold_to_use for d in reviews_min_distances]\n",
        "    \n",
        "  y_true = [val for val in cur_revs[\"mentions_kb\"]]\n",
        "  \n",
        "  print(f1_score(y_true, pred,pos_label=1))\n",
        "  print(classification_report(y_true, pred))\n",
        "\n",
        "\n"
      ],
      "execution_count": null,
      "outputs": [
        {
          "output_type": "stream",
          "text": [
            "Classifying reviews for 94e77128-9474-4076-b4a1-2ac6b880c8f3.\n",
            "0.17500000000000002\n",
            "              precision    recall  f1-score   support\n",
            "\n",
            "       False       0.86      0.08      0.15        71\n",
            "        True       0.10      0.88      0.18         8\n",
            "\n",
            "    accuracy                           0.16        79\n",
            "   macro avg       0.48      0.48      0.16        79\n",
            "weighted avg       0.78      0.16      0.16        79\n",
            "\n"
          ],
          "name": "stdout"
        }
      ]
    },
    {
      "cell_type": "markdown",
      "metadata": {
        "id": "gKjz-f_U9EX7"
      },
      "source": [
        "### Running full test of method"
      ]
    },
    {
      "cell_type": "code",
      "metadata": {
        "colab": {
          "base_uri": "https://localhost:8080/"
        },
        "id": "_HkKiDkf8pCj",
        "outputId": "84bc71da-1b54-49d3-f8b5-82e43d7cf92c"
      },
      "source": [
        "CLASSIFICATION_THRESHOLD = 1.1300000000000008\n",
        "print(len(test_df))\n",
        "\n",
        "cf_reports_L1 = []\n",
        "\n",
        "appids = [id for id in test_df[\"app_id\"].unique()]\n",
        "\n",
        "for test_app_id in appids:\n",
        "  print(\"App {} is tested\".format(test_app_id))\n",
        "\n",
        "  # Choosing app to test\n",
        "  index_test = test_df[test_df[\"app_id\"]==test_app_id].index\n",
        "  test = test_df.loc[test_df.index.isin(index_test)]\n",
        "\n",
        "  # Preprocessing\n",
        "\n",
        "  # Getting key benefits and preprocessing\n",
        "  kbdf = keyBen(test_app_id)\n",
        "  kbdf[\"forvector\"] = \"\"\n",
        "  for index, row in kbdf.iterrows():\n",
        "    kbdf[\"forvector\"][index] = \"{} {}\".format(row[\"title\"],row[\"description\"])\n",
        "  # print(preprocess(kbdf[\"forvector\"][index]))\n",
        "\n",
        "  # Generating tf-idf vector based on key benefits\n",
        "  from sklearn.feature_extraction.text import TfidfVectorizer\n",
        "  vectorizer = TfidfVectorizer(tokenizer=preprocess)\n",
        "  X = vectorizer.fit_transform(kbdf['forvector'])\n",
        "  print(X.shape)\n",
        "  print(vectorizer.get_feature_names())\n",
        "  lines()\n",
        "\n",
        "  # Fitting NearestNeighbors using vector of key benefits\n",
        "  from sklearn.neighbors import NearestNeighbors\n",
        "  neigh = NearestNeighbors()\n",
        "  neigh.fit(X)\n",
        "  \n",
        "  # Now each review fill be processed.\n",
        "  ## First it will be transformed to the same vector space as the key benefits.\n",
        "  ## Secondly the distance to each of the Key benefits' vectors will be calculated\n",
        "  ## and the shortest distance will be stored.\n",
        "  reviews_min_distances = []\n",
        "  \n",
        "  for index, row in test.iterrows():\n",
        "    # Transforming to vector space\n",
        "    query = row[\"body\"]\n",
        "    queryArray = vectorizer.transform([query])\n",
        "\n",
        "    # Calculating NearestNeighbors\n",
        "    neig_res = neigh.kneighbors(queryArray, return_distance=True, n_neighbors=len(kbdf))\n",
        "    neig_res_min_dist = min(neig_res[0][0])\n",
        "    reviews_min_distances.append((index,neig_res_min_dist))\n",
        "\n",
        "  # Classification is now done manually using a threshold distance.\n",
        "  ## This threshold was calculated using manual parametertuning (section above)\n",
        "  pred = [d[1] <= CLASSIFICATION_THRESHOLD for d in reviews_min_distances]\n",
        "  y_true = [val for val in test[\"mentions_kb\"]]\n",
        "  # print(pred)\n",
        "  # print(y_true)\n",
        "  print(classification_report(y_true, pred))\n",
        "  lines()\n",
        "  lines()\n",
        "  cf_report = classification_report(y_true, pred, output_dict=True)\n",
        "  cf_reports_L1.append(cf_report)\n"
      ],
      "execution_count": null,
      "outputs": [
        {
          "output_type": "stream",
          "text": [
            "105\n",
            "App 2264513f-8aa0-4836-92b6-362976e76b54 is tested\n",
            "(3, 40)\n",
            "['abandon', 'abandonment', 'automate', 'banner', 'bar', 'campaign', 'cart', 'convert', 'coupon', 'create', 'customer', 'deliver', 'email', 'engagement', 'exit', 'grow', 'high', 'intent', 'let', 'list', 'mailchimp', 'manual', 'offer', 'personalize', 'popups', 'post', 'present', 'product', 'purchase', 'recommendation', 'right', 'sale', 'send', 'site', 'tempt', 'time', 'timely', 'trigger', 'use', 'user']\n",
            "\n",
            "---------------\n",
            "\n",
            "              precision    recall  f1-score   support\n",
            "\n",
            "       False       0.73      0.50      0.59        16\n",
            "        True       0.20      0.40      0.27         5\n",
            "\n",
            "    accuracy                           0.48        21\n",
            "   macro avg       0.46      0.45      0.43        21\n",
            "weighted avg       0.60      0.48      0.51        21\n",
            "\n",
            "\n",
            "---------------\n",
            "\n",
            "\n",
            "---------------\n",
            "\n",
            "App 4ee3c37d-7ad9-4a98-83d0-7b3ff8cf6cfb is tested\n",
            "(3, 35)\n",
            "['acquire', 'acquisition', 'advocacy', 'app', 'beautiful', 'brand', 'build', 'business', 'cost', 'customer', 'design', 'driver', 'easy', 'efficient', 'email', 'engagement', 'enhance', 'experience', 'immersive', 'increase', 'lifetime', 'loyalty', 'market', 'maximize', 'new', 'organize', 'program', 'referral', 'revenue', 'reward', 'supercharge', 'tool', 'turn', 'use', 'value']\n",
            "\n",
            "---------------\n",
            "\n",
            "              precision    recall  f1-score   support\n",
            "\n",
            "       False       0.88      0.44      0.58        16\n",
            "        True       0.31      0.80      0.44         5\n",
            "\n",
            "    accuracy                           0.52        21\n",
            "   macro avg       0.59      0.62      0.51        21\n",
            "weighted avg       0.74      0.52      0.55        21\n",
            "\n",
            "\n",
            "---------------\n",
            "\n",
            "\n",
            "---------------\n",
            "\n",
            "App d4d7e4ca-d939-4e8a-857c-37dc62db7c22 is tested\n",
            "(3, 38)\n",
            "['abandon', 'automatic', 'autopilot', 'cart', 'channel', 'click', 'combine', 'customer', 'drive', 'easy', 'email', 'engage', 'engagement', 'high', 'import', 'integrate', 'integration', 'journey', 'lifecycle', 'lose', 'mailchimp', 'market', 'migration', 'minute', 'product', 'push', 'reactivate', 'recover', 'sale', 'shopify', 'single', 'skip', 'sms', 'start', 'strategy', 'tedious', 'template', 'work']\n",
            "\n",
            "---------------\n",
            "\n",
            "              precision    recall  f1-score   support\n",
            "\n",
            "       False       0.77      0.67      0.71        15\n",
            "        True       0.38      0.50      0.43         6\n",
            "\n",
            "    accuracy                           0.62        21\n",
            "   macro avg       0.57      0.58      0.57        21\n",
            "weighted avg       0.66      0.62      0.63        21\n",
            "\n",
            "\n",
            "---------------\n",
            "\n",
            "\n",
            "---------------\n",
            "\n",
            "App 94e77128-9474-4076-b4a1-2ac6b880c8f3 is tested\n",
            "(3, 20)\n",
            "['app', 'bar', 'booster', 'click', 'compliance', 'comply', 'consent', 'cookie', 'customizable', 'display', 'eu', 'free', 'fully', 'gdpr', 'law', 'security', 'step', 'store', 'visitor', 'way']\n",
            "\n",
            "---------------\n",
            "\n",
            "              precision    recall  f1-score   support\n",
            "\n",
            "       False       0.00      0.00      0.00        18\n",
            "        True       0.14      1.00      0.25         3\n",
            "\n",
            "    accuracy                           0.14        21\n",
            "   macro avg       0.07      0.50      0.12        21\n",
            "weighted avg       0.02      0.14      0.04        21\n",
            "\n",
            "\n",
            "---------------\n",
            "\n",
            "\n",
            "---------------\n",
            "\n",
            "App c769a28f-379a-4346-8871-915b558a099d is tested\n",
            "(3, 20)\n",
            "['accessory', 'catalog', 'choose', 'clothe', 'cost', 'customer', 'decor', 'dedicate', 'fee', 'home', 'impressive', 'minimum', 'monthly', 'order', 'pay', 'product', 'setup', 'support', 'team', 'upfront']\n",
            "\n",
            "---------------\n",
            "\n",
            "              precision    recall  f1-score   support\n",
            "\n",
            "       False       0.50      0.08      0.14        12\n",
            "        True       0.42      0.89      0.57         9\n",
            "\n",
            "    accuracy                           0.43        21\n",
            "   macro avg       0.46      0.49      0.36        21\n",
            "weighted avg       0.47      0.43      0.33        21\n",
            "\n",
            "\n",
            "---------------\n",
            "\n",
            "\n",
            "---------------\n",
            "\n"
          ],
          "name": "stdout"
        }
      ]
    },
    {
      "cell_type": "code",
      "metadata": {
        "id": "BImO4q73TtqQ"
      },
      "source": [
        "# Write results to file\n",
        "import json\n",
        "\n",
        "WORKDIR = '/content/drive/MyDrive/Skolan/TDDE16/project/Shopify-app-store-2021-01-06/'\n",
        "\n",
        "json_data = json.dumps(cf_reports_L1)\n",
        "f = open(WORKDIR + \"cf_reports_L1.json\",\"w\")\n",
        "f.write(json_data)\n",
        "f.close()"
      ],
      "execution_count": null,
      "outputs": []
    },
    {
      "cell_type": "markdown",
      "metadata": {
        "id": "AL6QImw2gnPr"
      },
      "source": [
        "## Using code from Lab 4 - V1\n",
        "\n",
        "In this version I only focus on the content of a review and its corresponding class. This can be interpeted that one can identify relevant reviews based only on the content of the review. Regardless of *Key Benefits*.\n",
        "\n",
        "Here the data is split in two ways:\n",
        "\n",
        "* The first is a horisontal split where the training and test set contains reviews from all apps.\n",
        "* The second split is a vertical split where one app is totaly left out from the training set, becoming the test set. All reviews from the other apps are in the training set."
      ]
    },
    {
      "cell_type": "code",
      "metadata": {
        "colab": {
          "base_uri": "https://localhost:8080/",
          "height": 419
        },
        "id": "5vF72DoVg8C7",
        "outputId": "743f1a13-e708-4634-ad82-6941e4fc8a0e"
      },
      "source": [
        "reviewsTruedf"
      ],
      "execution_count": null,
      "outputs": [
        {
          "output_type": "execute_result",
          "data": {
            "text/html": [
              "<div>\n",
              "<style scoped>\n",
              "    .dataframe tbody tr th:only-of-type {\n",
              "        vertical-align: middle;\n",
              "    }\n",
              "\n",
              "    .dataframe tbody tr th {\n",
              "        vertical-align: top;\n",
              "    }\n",
              "\n",
              "    .dataframe thead th {\n",
              "        text-align: right;\n",
              "    }\n",
              "</style>\n",
              "<table border=\"1\" class=\"dataframe\">\n",
              "  <thead>\n",
              "    <tr style=\"text-align: right;\">\n",
              "      <th></th>\n",
              "      <th>app_id</th>\n",
              "      <th>rating</th>\n",
              "      <th>body</th>\n",
              "      <th>mentions_kb</th>\n",
              "    </tr>\n",
              "  </thead>\n",
              "  <tbody>\n",
              "    <tr>\n",
              "      <th>0</th>\n",
              "      <td>4ee3c37d-7ad9-4a98-83d0-7b3ff8cf6cfb</td>\n",
              "      <td>5.0</td>\n",
              "      <td>Very easy to setup and customize. Looking forw...</td>\n",
              "      <td>True</td>\n",
              "    </tr>\n",
              "    <tr>\n",
              "      <th>1</th>\n",
              "      <td>4ee3c37d-7ad9-4a98-83d0-7b3ff8cf6cfb</td>\n",
              "      <td>5.0</td>\n",
              "      <td>So Excited for this Feature!! :D This is what ...</td>\n",
              "      <td>True</td>\n",
              "    </tr>\n",
              "    <tr>\n",
              "      <th>2</th>\n",
              "      <td>94e77128-9474-4076-b4a1-2ac6b880c8f3</td>\n",
              "      <td>5.0</td>\n",
              "      <td>Very good regarding the use that I have of it....</td>\n",
              "      <td>False</td>\n",
              "    </tr>\n",
              "    <tr>\n",
              "      <th>3</th>\n",
              "      <td>4ee3c37d-7ad9-4a98-83d0-7b3ff8cf6cfb</td>\n",
              "      <td>5.0</td>\n",
              "      <td>I've just started using the app on my store so...</td>\n",
              "      <td>False</td>\n",
              "    </tr>\n",
              "    <tr>\n",
              "      <th>4</th>\n",
              "      <td>4ee3c37d-7ad9-4a98-83d0-7b3ff8cf6cfb</td>\n",
              "      <td>5.0</td>\n",
              "      <td>Great app.  Fairly easy to setup and activate....</td>\n",
              "      <td>True</td>\n",
              "    </tr>\n",
              "    <tr>\n",
              "      <th>...</th>\n",
              "      <td>...</td>\n",
              "      <td>...</td>\n",
              "      <td>...</td>\n",
              "      <td>...</td>\n",
              "    </tr>\n",
              "    <tr>\n",
              "      <th>495</th>\n",
              "      <td>c769a28f-379a-4346-8871-915b558a099d</td>\n",
              "      <td>4.0</td>\n",
              "      <td>COOL. Just missing mannequins displaying the c...</td>\n",
              "      <td>False</td>\n",
              "    </tr>\n",
              "    <tr>\n",
              "      <th>496</th>\n",
              "      <td>4ee3c37d-7ad9-4a98-83d0-7b3ff8cf6cfb</td>\n",
              "      <td>5.0</td>\n",
              "      <td>Easy to use, Easy to manage, and my customers ...</td>\n",
              "      <td>False</td>\n",
              "    </tr>\n",
              "    <tr>\n",
              "      <th>497</th>\n",
              "      <td>c769a28f-379a-4346-8871-915b558a099d</td>\n",
              "      <td>5.0</td>\n",
              "      <td>One of the greatest programs out there I tried...</td>\n",
              "      <td>True</td>\n",
              "    </tr>\n",
              "    <tr>\n",
              "      <th>498</th>\n",
              "      <td>4ee3c37d-7ad9-4a98-83d0-7b3ff8cf6cfb</td>\n",
              "      <td>5.0</td>\n",
              "      <td>excellent rewards program! Simple to use! www....</td>\n",
              "      <td>False</td>\n",
              "    </tr>\n",
              "    <tr>\n",
              "      <th>499</th>\n",
              "      <td>d4d7e4ca-d939-4e8a-857c-37dc62db7c22</td>\n",
              "      <td>5.0</td>\n",
              "      <td>This is a no-brainer! Absolutely fantastic pie...</td>\n",
              "      <td>True</td>\n",
              "    </tr>\n",
              "  </tbody>\n",
              "</table>\n",
              "<p>499 rows × 4 columns</p>\n",
              "</div>"
            ],
            "text/plain": [
              "                                   app_id  ...  mentions_kb\n",
              "0    4ee3c37d-7ad9-4a98-83d0-7b3ff8cf6cfb  ...         True\n",
              "1    4ee3c37d-7ad9-4a98-83d0-7b3ff8cf6cfb  ...         True\n",
              "2    94e77128-9474-4076-b4a1-2ac6b880c8f3  ...        False\n",
              "3    4ee3c37d-7ad9-4a98-83d0-7b3ff8cf6cfb  ...        False\n",
              "4    4ee3c37d-7ad9-4a98-83d0-7b3ff8cf6cfb  ...         True\n",
              "..                                    ...  ...          ...\n",
              "495  c769a28f-379a-4346-8871-915b558a099d  ...        False\n",
              "496  4ee3c37d-7ad9-4a98-83d0-7b3ff8cf6cfb  ...        False\n",
              "497  c769a28f-379a-4346-8871-915b558a099d  ...         True\n",
              "498  4ee3c37d-7ad9-4a98-83d0-7b3ff8cf6cfb  ...        False\n",
              "499  d4d7e4ca-d939-4e8a-857c-37dc62db7c22  ...         True\n",
              "\n",
              "[499 rows x 4 columns]"
            ]
          },
          "metadata": {
            "tags": []
          },
          "execution_count": 67
        }
      ]
    },
    {
      "cell_type": "markdown",
      "metadata": {
        "id": "54qPovK1vy73"
      },
      "source": [
        "### Designing own Vectorizer"
      ]
    },
    {
      "cell_type": "code",
      "metadata": {
        "id": "FhBbkihmhJGJ"
      },
      "source": [
        "from sklearn.base import BaseEstimator, TransformerMixin\n",
        "\n",
        "class reviewVectorizer(BaseEstimator, TransformerMixin):\n",
        "    def __init__(self):\n",
        "        pass\n",
        "\n",
        "    def fit(self, X, y=None):\n",
        "        return self\n",
        "\n",
        "    # Vectorize a single review.\n",
        "    def _transform(self, review):\n",
        "      sentence = review[1] # index of review at pos 0\n",
        "      out = np.zeros(nlp.vocab.vectors.shape[1])\n",
        "      split_sentence = sentence.split()\n",
        "      \n",
        "      for word in split_sentence:\n",
        "        out += nlp.vocab[word].vector\n",
        "      \n",
        "      return out\n",
        "\n",
        "    # Vectorize a single row of the dataframe.\n",
        "    # def _transform2(self, row):\n",
        "        # tf1 = self._transform1(row[2])\n",
        "        # tf2 = self._transform1(row[4])\n",
        "        # return np.concatenate((tf1,tf2),axis=0)\n",
        "\n",
        "    def transform(self, X):\n",
        "        return [self._transform(review) for review in X.iteritems()]"
      ],
      "execution_count": null,
      "outputs": []
    },
    {
      "cell_type": "markdown",
      "metadata": {
        "id": "XcI1kenb1OSc"
      },
      "source": [
        "### Splitting data into train and test\n",
        "\n",
        "In this case all classified apps are used and the split is among these.\n",
        "Note that the split function takes an \"even split\" so that the pos/neg ratio is represented in the training and test set."
      ]
    },
    {
      "cell_type": "code",
      "metadata": {
        "id": "bKjvCixz1Wlw"
      },
      "source": [
        "test_df, train_df = create_test_train(reviewsTruedf, test_size=0.2)"
      ],
      "execution_count": null,
      "outputs": []
    },
    {
      "cell_type": "markdown",
      "metadata": {
        "id": "9yzZtzzQ9KdB"
      },
      "source": [
        "### Parameter tuning using training set\n",
        "\n",
        "Focus is on high F1 score for the True-values"
      ]
    },
    {
      "cell_type": "code",
      "metadata": {
        "colab": {
          "base_uri": "https://localhost:8080/",
          "height": 120
        },
        "id": "v1WnUsgO9QWD",
        "outputId": "be4da18e-d58b-40c1-f890-6d8e674d0953"
      },
      "source": [
        "\n",
        "\n",
        "def my_custom_f1(y_true, y_pred):\n",
        "  return f1_score(y_true, y_pred, pos_label=1)\n",
        "\n",
        "f1_true_scorer = make_scorer(my_custom_f1)\n",
        "\n",
        "train_df_target = [val for val in train_df[\"mentions_kb\"]]\n",
        "train_df_X = train_df[\"body\"]\n",
        "\n",
        "lines()\n",
        "\n",
        "pipe = Pipeline([('vectorizer', reviewVectorizer()),\n",
        "                 ('mlpclf', MLPClassifier())])\n",
        "\n",
        "parameters = {\n",
        "    \"mlpclf__max_iter\":[200,1000, 1500, 2000, 3000],\n",
        "    \"mlpclf__hidden_layer_sizes\":[(200,200),(300,300,300),(300,300,300,300),(200,200,200),(200,200,200,200),(200,200,200,200,200)]\n",
        "    }\n",
        "\n",
        "grid_pipe = GridSearchCV(pipe,parameters, scoring=f1_true_scorer)\n",
        "\n",
        "grid_pipe.fit(train_df_X,y=train_df_target)\n",
        "\n",
        "\n",
        "\"\"\"\n",
        "\n",
        "\n",
        "pipe.fit(train_df_rest,[val for val in train_df_target])\n",
        "\n",
        "pred = pipe.predict(eval_df)\n",
        "\n",
        "print(\"Length of training set: {}\".format(len(train_df_rest)))\n",
        "print(\"Length of eval set: {}\".format(len(eval_df)))\n",
        "\n",
        "print(classification_report([val for val in eval_df[\"mentions_kb\"]], pred))\n",
        "\"\"\""
      ],
      "execution_count": null,
      "outputs": [
        {
          "output_type": "stream",
          "text": [
            "\n",
            "---------------\n",
            "\n"
          ],
          "name": "stdout"
        },
        {
          "output_type": "execute_result",
          "data": {
            "application/vnd.google.colaboratory.intrinsic+json": {
              "type": "string"
            },
            "text/plain": [
              "'\\n\\n\\npipe.fit(train_df_rest,[val for val in train_df_target])\\n\\npred = pipe.predict(eval_df)\\n\\nprint(\"Length of training set: {}\".format(len(train_df_rest)))\\nprint(\"Length of eval set: {}\".format(len(eval_df)))\\n\\nprint(classification_report([val for val in eval_df[\"mentions_kb\"]], pred))\\n'"
            ]
          },
          "metadata": {
            "tags": []
          },
          "execution_count": 45
        }
      ]
    },
    {
      "cell_type": "code",
      "metadata": {
        "colab": {
          "base_uri": "https://localhost:8080/"
        },
        "id": "tWyVWAHuIy2L",
        "outputId": "e118f8cc-394c-46ba-a159-d349418bf68b"
      },
      "source": [
        "print(grid_pipe.best_params_)"
      ],
      "execution_count": null,
      "outputs": [
        {
          "output_type": "stream",
          "text": [
            "{'mlpclf__hidden_layer_sizes': (200, 200, 200, 200), 'mlpclf__max_iter': 1500}\n"
          ],
          "name": "stdout"
        }
      ]
    },
    {
      "cell_type": "markdown",
      "metadata": {
        "id": "xgO-8S3702pH"
      },
      "source": [
        "### Training and testing using a multi-layer perceptron classifier"
      ]
    },
    {
      "cell_type": "code",
      "metadata": {
        "colab": {
          "base_uri": "https://localhost:8080/"
        },
        "id": "CSafJoYThPV9",
        "outputId": "38bc8734-5ee9-45fb-9594-a6e19c787c1d"
      },
      "source": [
        "\n",
        "\n",
        "# solver{‘lbfgs’, ‘sgd’, ‘adam’}, default=’adam’\n",
        "\n",
        "pipe = Pipeline([('vectorizer', reviewVectorizer()),\n",
        "                 ('mlpclf', MLPClassifier(random_state=None, max_iter=1500, hidden_layer_sizes=(200, 200, 200, 200)))])\n",
        "\n",
        "train_df_target = [val for val in train_df[\"mentions_kb\"]]\n",
        "train_df_feat = train_df[\"body\"]\n",
        "\n",
        "pipe.fit(train_df_feat,train_df_target)\n",
        "\n",
        "\n"
      ],
      "execution_count": null,
      "outputs": [
        {
          "output_type": "execute_result",
          "data": {
            "text/plain": [
              "Pipeline(memory=None,\n",
              "         steps=[('vectorizer', reviewVectorizer()),\n",
              "                ('mlpclf',\n",
              "                 MLPClassifier(activation='relu', alpha=0.0001,\n",
              "                               batch_size='auto', beta_1=0.9, beta_2=0.999,\n",
              "                               early_stopping=False, epsilon=1e-08,\n",
              "                               hidden_layer_sizes=(200, 200, 200, 200),\n",
              "                               learning_rate='constant',\n",
              "                               learning_rate_init=0.001, max_fun=15000,\n",
              "                               max_iter=1500, momentum=0.9, n_iter_no_change=10,\n",
              "                               nesterovs_momentum=True, power_t=0.5,\n",
              "                               random_state=None, shuffle=True, solver='adam',\n",
              "                               tol=0.0001, validation_fraction=0.1,\n",
              "                               verbose=False, warm_start=False))],\n",
              "         verbose=False)"
            ]
          },
          "metadata": {
            "tags": []
          },
          "execution_count": 17
        }
      ]
    },
    {
      "cell_type": "code",
      "metadata": {
        "colab": {
          "base_uri": "https://localhost:8080/"
        },
        "id": "uahpB8VtzA7X",
        "outputId": "98ec7b59-0885-45ae-ccfd-f616d78a6192"
      },
      "source": [
        "\n",
        "\n",
        "pred = pipe.predict(test_df[\"body\"])\n",
        "\n",
        "print(\"Length of training set: {}\".format(len(train_df)))\n",
        "print(\"Length of testing set: {}\".format(len(test_df)))\n",
        "\n",
        "lines()\n",
        "\n",
        "print(classification_report([val for val in test_df[\"mentions_kb\"]], pred))"
      ],
      "execution_count": null,
      "outputs": [
        {
          "output_type": "stream",
          "text": [
            "Length of training set: 394\n",
            "Length of testing set: 105\n",
            "\n",
            "---------------\n",
            "\n",
            "              precision    recall  f1-score   support\n",
            "\n",
            "       False       0.80      0.86      0.83        77\n",
            "        True       0.52      0.43      0.47        28\n",
            "\n",
            "    accuracy                           0.74       105\n",
            "   macro avg       0.66      0.64      0.65       105\n",
            "weighted avg       0.73      0.74      0.73       105\n",
            "\n"
          ],
          "name": "stdout"
        }
      ]
    },
    {
      "cell_type": "markdown",
      "metadata": {
        "id": "ydeyCtng_JZF"
      },
      "source": [
        "### Splitting train and test and keeping one app outside\n",
        "\n",
        "The left out app becomes the test case."
      ]
    },
    {
      "cell_type": "code",
      "metadata": {
        "colab": {
          "base_uri": "https://localhost:8080/",
          "height": 159
        },
        "id": "1xpsRbWP_X5G",
        "outputId": "e77985a4-3818-446a-ad43-f505ae039cf6"
      },
      "source": [
        "appids = [id for id in reviewsTruedf[\"app_id\"].unique()]\n",
        "# print(appids)\n",
        "\n",
        "random.seed(a=None, version=2)\n",
        "selection = random.sample(range(0,len(appids)),k=1)[0]\n",
        "test_app_id = appids[selection]\n",
        "print(\"App {} is left out\".format(test_app_id))\n",
        "\n",
        "index_test = reviewsTruedf[reviewsTruedf[\"app_id\"]==test_app_id].index\n",
        "\n",
        "test = reviewsTruedf.loc[reviewsTruedf.index.isin(index_test)]\n",
        "train = reviewsTruedf.loc[~reviewsTruedf.index.isin(index_test)]\n",
        "\n",
        "test.groupby(by='mentions_kb').count()\n"
      ],
      "execution_count": null,
      "outputs": [
        {
          "output_type": "stream",
          "text": [
            "App d4d7e4ca-d939-4e8a-857c-37dc62db7c22 is left out\n"
          ],
          "name": "stdout"
        },
        {
          "output_type": "execute_result",
          "data": {
            "text/html": [
              "<div>\n",
              "<style scoped>\n",
              "    .dataframe tbody tr th:only-of-type {\n",
              "        vertical-align: middle;\n",
              "    }\n",
              "\n",
              "    .dataframe tbody tr th {\n",
              "        vertical-align: top;\n",
              "    }\n",
              "\n",
              "    .dataframe thead th {\n",
              "        text-align: right;\n",
              "    }\n",
              "</style>\n",
              "<table border=\"1\" class=\"dataframe\">\n",
              "  <thead>\n",
              "    <tr style=\"text-align: right;\">\n",
              "      <th></th>\n",
              "      <th>app_id</th>\n",
              "      <th>rating</th>\n",
              "      <th>body</th>\n",
              "    </tr>\n",
              "    <tr>\n",
              "      <th>mentions_kb</th>\n",
              "      <th></th>\n",
              "      <th></th>\n",
              "      <th></th>\n",
              "    </tr>\n",
              "  </thead>\n",
              "  <tbody>\n",
              "    <tr>\n",
              "      <th>False</th>\n",
              "      <td>73</td>\n",
              "      <td>73</td>\n",
              "      <td>73</td>\n",
              "    </tr>\n",
              "    <tr>\n",
              "      <th>True</th>\n",
              "      <td>26</td>\n",
              "      <td>26</td>\n",
              "      <td>26</td>\n",
              "    </tr>\n",
              "  </tbody>\n",
              "</table>\n",
              "</div>"
            ],
            "text/plain": [
              "             app_id  rating  body\n",
              "mentions_kb                      \n",
              "False            73      73    73\n",
              "True             26      26    26"
            ]
          },
          "metadata": {
            "tags": []
          },
          "execution_count": 19
        }
      ]
    },
    {
      "cell_type": "markdown",
      "metadata": {
        "id": "QYP6jvjUB9WG"
      },
      "source": [
        "### Training and testing using a multi-layer perceptron classifier"
      ]
    },
    {
      "cell_type": "code",
      "metadata": {
        "colab": {
          "base_uri": "https://localhost:8080/"
        },
        "id": "73USKgk2CCY4",
        "outputId": "af9718cc-d899-495a-d7c5-97921dd20b69"
      },
      "source": [
        "pipe = Pipeline([('vectorizer', reviewVectorizer()),\n",
        "                 ('mlpclf', MLPClassifier(random_state=None, max_iter=1500, hidden_layer_sizes=(200, 200, 200, 200)))])\n",
        "\n",
        "train_df_target = [val for val in train[\"mentions_kb\"]]\n",
        "train_df_feat = train[\"body\"]\n",
        "\n",
        "pipe.fit(train_df_feat,train_df_target)\n",
        "\n",
        "\n"
      ],
      "execution_count": null,
      "outputs": [
        {
          "output_type": "execute_result",
          "data": {
            "text/plain": [
              "Pipeline(memory=None,\n",
              "         steps=[('vectorizer', reviewVectorizer()),\n",
              "                ('mlpclf',\n",
              "                 MLPClassifier(activation='relu', alpha=0.0001,\n",
              "                               batch_size='auto', beta_1=0.9, beta_2=0.999,\n",
              "                               early_stopping=False, epsilon=1e-08,\n",
              "                               hidden_layer_sizes=(200, 200, 200, 200),\n",
              "                               learning_rate='constant',\n",
              "                               learning_rate_init=0.001, max_fun=15000,\n",
              "                               max_iter=1500, momentum=0.9, n_iter_no_change=10,\n",
              "                               nesterovs_momentum=True, power_t=0.5,\n",
              "                               random_state=None, shuffle=True, solver='adam',\n",
              "                               tol=0.0001, validation_fraction=0.1,\n",
              "                               verbose=False, warm_start=False))],\n",
              "         verbose=False)"
            ]
          },
          "metadata": {
            "tags": []
          },
          "execution_count": 20
        }
      ]
    },
    {
      "cell_type": "code",
      "metadata": {
        "colab": {
          "base_uri": "https://localhost:8080/"
        },
        "id": "nussNezeCCY6",
        "outputId": "3c732f21-f151-4994-bf7a-ef21560a5350"
      },
      "source": [
        "\n",
        "\n",
        "pred = pipe.predict(test[\"body\"])\n",
        "y_true = [val for val in test[\"mentions_kb\"]]\n",
        "\n",
        "print(\"Length of training set: {}\".format(len(train_df)))\n",
        "print(\"Length of testing set: {}\".format(len(test_df)))\n",
        "\n",
        "lines()\n",
        "\n",
        "print(classification_report(y_true, pred))"
      ],
      "execution_count": null,
      "outputs": [
        {
          "output_type": "stream",
          "text": [
            "Length of training set: 394\n",
            "Length of testing set: 105\n",
            "\n",
            "---------------\n",
            "\n",
            "              precision    recall  f1-score   support\n",
            "\n",
            "       False       0.86      0.88      0.87        73\n",
            "        True       0.64      0.62      0.63        26\n",
            "\n",
            "    accuracy                           0.81        99\n",
            "   macro avg       0.75      0.75      0.75        99\n",
            "weighted avg       0.81      0.81      0.81        99\n",
            "\n"
          ],
          "name": "stdout"
        }
      ]
    },
    {
      "cell_type": "markdown",
      "metadata": {
        "id": "wCx5xLqR2rNx"
      },
      "source": [
        "### Running full test V1"
      ]
    },
    {
      "cell_type": "code",
      "metadata": {
        "id": "kwos-LO12xah"
      },
      "source": [
        "# Horisontal\n",
        "\n",
        "cf_reports_horisontal = []\n",
        "\n",
        "RANDOM_STATE = 23\n",
        "\n",
        "random.seed(a=RANDOM_STATE, version=2)\n",
        "\n",
        "iters = 100\n",
        "\n",
        "for i in range(iters):\n",
        "  print(\"Starting iteration {} of {}.\".format(i+1,iters))\n",
        "  test_df, train_df = create_test_train(reviewsTruedf, test_size=0.2)\n",
        "\n",
        "  # Training\n",
        "  pipe = Pipeline([('vectorizer', reviewVectorizer()),\n",
        "                 ('mlpclf', MLPClassifier(random_state=RANDOM_STATE, max_iter=1500, hidden_layer_sizes=(200, 200, 200, 200)))])\n",
        "  \n",
        "  train_df_target = [val for val in train_df[\"mentions_kb\"]]\n",
        "  train_df_feat = train_df[\"body\"]\n",
        "  \n",
        "  pipe.fit(train_df_feat,train_df_target)\n",
        "\n",
        "  # Testing\n",
        "  pred = pipe.predict(test_df[\"body\"])\n",
        "  \n",
        "  y_true = [val for val in test_df[\"mentions_kb\"]]\n",
        "\n",
        "  cf_report = classification_report(y_true, pred, output_dict=True)\n",
        "  cf_reports_horisontal.append(cf_report)\n",
        "\n",
        "\n"
      ],
      "execution_count": null,
      "outputs": []
    },
    {
      "cell_type": "code",
      "metadata": {
        "colab": {
          "base_uri": "https://localhost:8080/"
        },
        "id": "5snK4mOz2-zv",
        "outputId": "ecb32d35-7f57-4dea-e7a6-10eb2e7d95d6"
      },
      "source": [
        "# Vertical\n",
        "\n",
        "appids = [id for id in reviewsTruedf[\"app_id\"].unique()]\n",
        "# print(appids)\n",
        "\n",
        "cf_reports_vertical = []\n",
        "\n",
        "for test_app_id in appids:\n",
        "  print(\"App {} is left out\".format(test_app_id))\n",
        "  index_test = reviewsTruedf[reviewsTruedf[\"app_id\"]==test_app_id].index\n",
        "  test = reviewsTruedf.loc[reviewsTruedf.index.isin(index_test)]\n",
        "  train = reviewsTruedf.loc[~reviewsTruedf.index.isin(index_test)]\n",
        "  \n",
        "  #Traingin\n",
        "  pipe = Pipeline([('vectorizer', reviewVectorizer()),\n",
        "                 ('mlpclf', MLPClassifier(random_state=None, max_iter=1500, hidden_layer_sizes=(200, 200, 200, 200)))])\n",
        "  \n",
        "  train_df_target = [val for val in train[\"mentions_kb\"]]\n",
        "  train_df_feat = train[\"body\"]\n",
        "  \n",
        "  pipe.fit(train_df_feat,train_df_target)\n",
        "\n",
        "  # Testing\n",
        "  pred = pipe.predict(test[\"body\"])\n",
        "  y_true = [val for val in test[\"mentions_kb\"]]\n",
        "  cf_report = classification_report(y_true, pred, output_dict=True)\n",
        "  cf_reports_vertical.append(cf_report)\n",
        "\n",
        "\n"
      ],
      "execution_count": null,
      "outputs": [
        {
          "output_type": "stream",
          "text": [
            "App 4ee3c37d-7ad9-4a98-83d0-7b3ff8cf6cfb is left out\n",
            "App 94e77128-9474-4076-b4a1-2ac6b880c8f3 is left out\n",
            "App d4d7e4ca-d939-4e8a-857c-37dc62db7c22 is left out\n",
            "App 2264513f-8aa0-4836-92b6-362976e76b54 is left out\n",
            "App c769a28f-379a-4346-8871-915b558a099d is left out\n"
          ],
          "name": "stdout"
        }
      ]
    },
    {
      "cell_type": "code",
      "metadata": {
        "id": "6DxBHlwN3sm8"
      },
      "source": [
        "# Write results to file\n",
        "import json\n",
        "\n",
        "WORKDIR = '/content/drive/MyDrive/Skolan/TDDE16/project/Shopify-app-store-2021-01-06/'\n",
        "\n",
        "# Horisontal\n",
        "json_data = json.dumps(cf_reports_horisontal)\n",
        "f = open(WORKDIR + \"cf_reports_L4V1_horisontal.json\",\"w\")\n",
        "f.write(json_data)\n",
        "f.close()\n",
        "\n",
        "# Vertical\n",
        "json_data = json.dumps(cf_reports_vertical)\n",
        "f = open(WORKDIR + \"cf_reports_L4V1_vertical.json\",\"w\")\n",
        "f.write(json_data)\n",
        "f.close()"
      ],
      "execution_count": null,
      "outputs": []
    },
    {
      "cell_type": "markdown",
      "metadata": {
        "id": "NcKCylkDFLQs"
      },
      "source": [
        "## Using code from Lab 4 - V2\n",
        "\n",
        "In this version I combind each review with the corresponding *Key Benefits* and the use the same pipeline as in the section above. The input to the network will be 600 nodes, where 300 is for the review and 300 is the **combined** *Key Benefits*. This can be interpeted as trying to teach the network to compare each review with the *Key Benefits* and make a conclusion based on this information.\n",
        "\n",
        "Here the data is split in two ways:\n",
        "\n",
        "* The first is a horisontal split where the training and test set contains reviews from all apps.\n",
        "* The second split is a vertical split where one app is totaly left out from the training set, becoming the test set. All reviews from the other apps are in the training set."
      ]
    },
    {
      "cell_type": "markdown",
      "metadata": {
        "id": "DWnltbatGmge"
      },
      "source": [
        "### Designing own Vectorizer"
      ]
    },
    {
      "cell_type": "code",
      "metadata": {
        "id": "YysELH-hGmgf"
      },
      "source": [
        "from sklearn.base import BaseEstimator, TransformerMixin\n",
        "\n",
        "class PairedSentenceVectorizer(BaseEstimator, TransformerMixin):\n",
        "  def __init__(self):\n",
        "    pass\n",
        "    \n",
        "  def fit(self, X, y=None):\n",
        "    return self\n",
        "\n",
        "    # Vectorize a single sentence.\n",
        "  def _transform1(self, sentence):\n",
        "    out = np.zeros(nlp.vocab.vectors.shape[1])\n",
        "    split_sentence = sentence.split()\n",
        "    \n",
        "    for word in split_sentence:\n",
        "      out += nlp.vocab[word].vector\n",
        "    \n",
        "    return out\n",
        "    \n",
        "  # Vectorize a single row of the dataframe.\n",
        "  def _transform2(self, row):\n",
        "    kbs = self._transform1(row[5])\n",
        "    rev = self._transform1(row[3])\n",
        "    retVal = np.concatenate((kbs,rev),axis=0)\n",
        "    # print(retVal.shape)\n",
        "    retVal= retVal.reshape(1, -1)\n",
        "    # print(retVal.shape)\n",
        "    # len(adasda)\n",
        "    return retVal\n",
        "\n",
        "  def transform(self, X):\n",
        "    return np.concatenate(\n",
        "        [self._transform2(row) for row in X.itertuples()]\n",
        "        )"
      ],
      "execution_count": null,
      "outputs": []
    },
    {
      "cell_type": "markdown",
      "metadata": {
        "id": "5G1JXVavIuzh"
      },
      "source": [
        "### Preprocessing data\n",
        "\n",
        "For this method one most add the key benefits for each review to the dataframe."
      ]
    },
    {
      "cell_type": "code",
      "metadata": {
        "id": "lN1MKdnTI4SD"
      },
      "source": [
        "reviews_with_kb_Truedf = reviewsTruedf\n",
        "\n",
        "reviews_with_kb_Truedf[\"key_benefits\"] = ''\n",
        "\n",
        "for index, row in reviews_with_kb_Truedf.iterrows():\n",
        "  concated_kb = ''\n",
        "  for kb in keyBen(row[\"app_id\"])[\"description\"].iteritems():\n",
        "    concated_kb = concated_kb + \" \" + str(kb[1])\n",
        "  # print(concated_kb)\n",
        "  reviews_with_kb_Truedf.loc[index,\"key_benefits\"] = concated_kb"
      ],
      "execution_count": null,
      "outputs": []
    },
    {
      "cell_type": "markdown",
      "metadata": {
        "id": "96JdLmHfGmgg"
      },
      "source": [
        "### Splitting data into train and test\n",
        "\n",
        "In this case all classified apps are used and the split is among these.\n",
        "Note that the split function takes an \"even split\" so that the pos/neg ratio is represented in the training and test set."
      ]
    },
    {
      "cell_type": "code",
      "metadata": {
        "id": "u4x-fr_3Gmgh"
      },
      "source": [
        "test_df, train_df = create_test_train(reviews_with_kb_Truedf, test_size=0.2)"
      ],
      "execution_count": null,
      "outputs": []
    },
    {
      "cell_type": "markdown",
      "metadata": {
        "id": "9v4QszVgGmgi"
      },
      "source": [
        "### Parameter tuning using training set\n",
        "\n",
        "Focus is on high F1 score for the True-values"
      ]
    },
    {
      "cell_type": "code",
      "metadata": {
        "colab": {
          "base_uri": "https://localhost:8080/"
        },
        "id": "J2AnBMOSGmgj",
        "outputId": "bf7525e9-9ca6-420b-f908-d63fdfa83c7f"
      },
      "source": [
        "def my_custom_f1(y_true, y_pred):\n",
        "  return f1_score(y_true, y_pred, pos_label=1)\n",
        "\n",
        "f1_true_scorer = make_scorer(my_custom_f1)\n",
        "\n",
        "train_df_target = [val for val in train_df[\"mentions_kb\"]]\n",
        "train_df_X = train_df\n",
        "\n",
        "lines()\n",
        "\n",
        "pipe = Pipeline([('vectorizer', PairedSentenceVectorizer()),\n",
        "                 ('mlpclf', MLPClassifier())])\n",
        "\n",
        "parameters = {\n",
        "    \"mlpclf__max_iter\":[1,200,1000, 1500, 2000, 3000],\n",
        "    \"mlpclf__hidden_layer_sizes\":[(300,300),(300,300,300),\n",
        "                                  (300,300,300,300),(200,200),\n",
        "                                  (200,200,200),(200,200,200,200),\n",
        "                                  (200,200,200,200,200),(600,600,600,)]\n",
        "    }\n",
        "\n",
        "grid_pipe = GridSearchCV(pipe,parameters, scoring=f1_true_scorer)\n",
        "\n",
        "grid_pipe.fit(train_df_X,y=train_df_target)"
      ],
      "execution_count": null,
      "outputs": [
        {
          "output_type": "stream",
          "text": [
            "\n",
            "---------------\n",
            "\n"
          ],
          "name": "stdout"
        },
        {
          "output_type": "execute_result",
          "data": {
            "text/plain": [
              "GridSearchCV(cv=None, error_score=nan,\n",
              "             estimator=Pipeline(memory=None,\n",
              "                                steps=[('vectorizer',\n",
              "                                        PairedSentenceVectorizer()),\n",
              "                                       ('mlpclf',\n",
              "                                        MLPClassifier(activation='relu',\n",
              "                                                      alpha=0.0001,\n",
              "                                                      batch_size='auto',\n",
              "                                                      beta_1=0.9, beta_2=0.999,\n",
              "                                                      early_stopping=False,\n",
              "                                                      epsilon=1e-08,\n",
              "                                                      hidden_layer_sizes=(100,),\n",
              "                                                      learning_rate='constant',\n",
              "                                                      learning_rate_init=0.001,\n",
              "                                                      max_fun=15000,\n",
              "                                                      max_iter=20...\n",
              "                                verbose=False),\n",
              "             iid='deprecated', n_jobs=None,\n",
              "             param_grid={'mlpclf__hidden_layer_sizes': [(300, 300),\n",
              "                                                        (300, 300, 300),\n",
              "                                                        (300, 300, 300, 300),\n",
              "                                                        (200, 200),\n",
              "                                                        (200, 200, 200),\n",
              "                                                        (200, 200, 200, 200),\n",
              "                                                        (200, 200, 200, 200,\n",
              "                                                         200),\n",
              "                                                        (600, 600, 600)],\n",
              "                         'mlpclf__max_iter': [1, 200, 1000, 1500, 2000, 3000]},\n",
              "             pre_dispatch='2*n_jobs', refit=True, return_train_score=False,\n",
              "             scoring=make_scorer(my_custom_f1), verbose=0)"
            ]
          },
          "metadata": {
            "tags": []
          },
          "execution_count": 573
        }
      ]
    },
    {
      "cell_type": "code",
      "metadata": {
        "colab": {
          "base_uri": "https://localhost:8080/"
        },
        "id": "GslSa2A-Gmgk",
        "outputId": "09dad37a-b489-4f01-eedc-5686ce551281"
      },
      "source": [
        "print(grid_pipe.best_params_)"
      ],
      "execution_count": null,
      "outputs": [
        {
          "output_type": "stream",
          "text": [
            "{'mlpclf__hidden_layer_sizes': (200, 200, 200, 200), 'mlpclf__max_iter': 2000}\n"
          ],
          "name": "stdout"
        }
      ]
    },
    {
      "cell_type": "markdown",
      "metadata": {
        "id": "NOcrzzhPGmgl"
      },
      "source": [
        "### Training and testing using a multi-layer perceptron classifier"
      ]
    },
    {
      "cell_type": "code",
      "metadata": {
        "colab": {
          "base_uri": "https://localhost:8080/"
        },
        "id": "mzcF1IbAGmgl",
        "outputId": "aa87026b-6c89-42fb-d0eb-a37c380dcf30"
      },
      "source": [
        "pipe = Pipeline([('vectorizer', PairedSentenceVectorizer()),\n",
        "                 ('mlpclf', MLPClassifier(random_state=None, max_iter=2000, hidden_layer_sizes=(200, 200, 200, 200)))])\n",
        "\n",
        "train_df_target = [val for val in train_df[\"mentions_kb\"]]\n",
        "train_df_feat = train_df\n",
        "\n",
        "pipe.fit(train_df_feat,train_df_target)\n"
      ],
      "execution_count": null,
      "outputs": [
        {
          "output_type": "execute_result",
          "data": {
            "text/plain": [
              "Pipeline(memory=None,\n",
              "         steps=[('vectorizer', PairedSentenceVectorizer()),\n",
              "                ('mlpclf',\n",
              "                 MLPClassifier(activation='relu', alpha=0.0001,\n",
              "                               batch_size='auto', beta_1=0.9, beta_2=0.999,\n",
              "                               early_stopping=False, epsilon=1e-08,\n",
              "                               hidden_layer_sizes=(200, 200, 200, 200),\n",
              "                               learning_rate='constant',\n",
              "                               learning_rate_init=0.001, max_fun=15000,\n",
              "                               max_iter=2000, momentum=0.9, n_iter_no_change=10,\n",
              "                               nesterovs_momentum=True, power_t=0.5,\n",
              "                               random_state=None, shuffle=True, solver='adam',\n",
              "                               tol=0.0001, validation_fraction=0.1,\n",
              "                               verbose=False, warm_start=False))],\n",
              "         verbose=False)"
            ]
          },
          "metadata": {
            "tags": []
          },
          "execution_count": 25
        }
      ]
    },
    {
      "cell_type": "code",
      "metadata": {
        "colab": {
          "base_uri": "https://localhost:8080/"
        },
        "id": "teh1b4mrGmgm",
        "outputId": "1c5433b8-3cfb-40f6-9e04-42a00d42cdb1"
      },
      "source": [
        "\n",
        "\n",
        "pred = pipe.predict(test_df)\n",
        "\n",
        "y_true = [val for val in test_df[\"mentions_kb\"]]\n",
        "\n",
        "print(\"Length of training set: {}\".format(len(train_df)))\n",
        "print(\"Length of testing set: {}\".format(len(test_df)))\n",
        "\n",
        "lines()\n",
        "\n",
        "print(classification_report(y_true, pred))"
      ],
      "execution_count": null,
      "outputs": [
        {
          "output_type": "stream",
          "text": [
            "Length of training set: 394\n",
            "Length of testing set: 105\n",
            "\n",
            "---------------\n",
            "\n",
            "              precision    recall  f1-score   support\n",
            "\n",
            "       False       0.82      0.95      0.88        77\n",
            "        True       0.75      0.43      0.55        28\n",
            "\n",
            "    accuracy                           0.81       105\n",
            "   macro avg       0.79      0.69      0.71       105\n",
            "weighted avg       0.80      0.81      0.79       105\n",
            "\n"
          ],
          "name": "stdout"
        }
      ]
    },
    {
      "cell_type": "markdown",
      "metadata": {
        "id": "zZbK83L9Gmgn"
      },
      "source": [
        "### Splitting train and test and keeping one app outside\n",
        "\n",
        "The left out app becomes the test case."
      ]
    },
    {
      "cell_type": "code",
      "metadata": {
        "colab": {
          "base_uri": "https://localhost:8080/",
          "height": 210
        },
        "id": "ntsiLhTFGmgn",
        "outputId": "848f5b5d-20ec-4fc6-c1ff-db96cc99d775"
      },
      "source": [
        "appids = [id for id in reviews_with_kb_Truedf[\"app_id\"].unique()]\n",
        "# print(appids)\n",
        "\n",
        "random.seed(a=None, version=2)\n",
        "selection = random.sample(range(0,len(appids)),k=1)[0]\n",
        "test_app_id = appids[selection]\n",
        "print(\"App {} is left out\".format(test_app_id))\n",
        "\n",
        "lines()\n",
        "\n",
        "index_test = reviews_with_kb_Truedf[reviews_with_kb_Truedf[\"app_id\"]==test_app_id].index\n",
        "\n",
        "test = reviews_with_kb_Truedf.loc[reviews_with_kb_Truedf.index.isin(index_test)]\n",
        "train = reviews_with_kb_Truedf.loc[~reviews_with_kb_Truedf.index.isin(index_test)]\n",
        "\n",
        "test.groupby(by='mentions_kb').count()\n"
      ],
      "execution_count": null,
      "outputs": [
        {
          "output_type": "stream",
          "text": [
            "App c769a28f-379a-4346-8871-915b558a099d is left out\n",
            "\n",
            "---------------\n",
            "\n"
          ],
          "name": "stdout"
        },
        {
          "output_type": "execute_result",
          "data": {
            "text/html": [
              "<div>\n",
              "<style scoped>\n",
              "    .dataframe tbody tr th:only-of-type {\n",
              "        vertical-align: middle;\n",
              "    }\n",
              "\n",
              "    .dataframe tbody tr th {\n",
              "        vertical-align: top;\n",
              "    }\n",
              "\n",
              "    .dataframe thead th {\n",
              "        text-align: right;\n",
              "    }\n",
              "</style>\n",
              "<table border=\"1\" class=\"dataframe\">\n",
              "  <thead>\n",
              "    <tr style=\"text-align: right;\">\n",
              "      <th></th>\n",
              "      <th>app_id</th>\n",
              "      <th>rating</th>\n",
              "      <th>body</th>\n",
              "      <th>key_benefits</th>\n",
              "    </tr>\n",
              "    <tr>\n",
              "      <th>mentions_kb</th>\n",
              "      <th></th>\n",
              "      <th></th>\n",
              "      <th></th>\n",
              "      <th></th>\n",
              "    </tr>\n",
              "  </thead>\n",
              "  <tbody>\n",
              "    <tr>\n",
              "      <th>False</th>\n",
              "      <td>59</td>\n",
              "      <td>59</td>\n",
              "      <td>59</td>\n",
              "      <td>59</td>\n",
              "    </tr>\n",
              "    <tr>\n",
              "      <th>True</th>\n",
              "      <td>41</td>\n",
              "      <td>41</td>\n",
              "      <td>41</td>\n",
              "      <td>41</td>\n",
              "    </tr>\n",
              "  </tbody>\n",
              "</table>\n",
              "</div>"
            ],
            "text/plain": [
              "             app_id  rating  body  key_benefits\n",
              "mentions_kb                                    \n",
              "False            59      59    59            59\n",
              "True             41      41    41            41"
            ]
          },
          "metadata": {
            "tags": []
          },
          "execution_count": 27
        }
      ]
    },
    {
      "cell_type": "markdown",
      "metadata": {
        "id": "jTqh18gPGmgo"
      },
      "source": [
        "### Training and testing using a multi-layer perceptron classifier"
      ]
    },
    {
      "cell_type": "code",
      "metadata": {
        "colab": {
          "base_uri": "https://localhost:8080/"
        },
        "id": "HJWzQBCmGmgp",
        "outputId": "9b355120-3749-4a66-c810-f62cf13be3b7"
      },
      "source": [
        "pipe = Pipeline([('vectorizer', PairedSentenceVectorizer()),\n",
        "                 ('mlpclf', MLPClassifier(random_state=None, max_iter=2000, hidden_layer_sizes=(200, 200, 200, 200)))])\n",
        "\n",
        "train_df_target = [val for val in train[\"mentions_kb\"]]\n",
        "train_df_feat = train\n",
        "\n",
        "pipe.fit(train_df_feat,train_df_target)\n",
        "\n",
        "\n"
      ],
      "execution_count": null,
      "outputs": [
        {
          "output_type": "execute_result",
          "data": {
            "text/plain": [
              "Pipeline(memory=None,\n",
              "         steps=[('vectorizer', PairedSentenceVectorizer()),\n",
              "                ('mlpclf',\n",
              "                 MLPClassifier(activation='relu', alpha=0.0001,\n",
              "                               batch_size='auto', beta_1=0.9, beta_2=0.999,\n",
              "                               early_stopping=False, epsilon=1e-08,\n",
              "                               hidden_layer_sizes=(200, 200, 200, 200),\n",
              "                               learning_rate='constant',\n",
              "                               learning_rate_init=0.001, max_fun=15000,\n",
              "                               max_iter=2000, momentum=0.9, n_iter_no_change=10,\n",
              "                               nesterovs_momentum=True, power_t=0.5,\n",
              "                               random_state=None, shuffle=True, solver='adam',\n",
              "                               tol=0.0001, validation_fraction=0.1,\n",
              "                               verbose=False, warm_start=False))],\n",
              "         verbose=False)"
            ]
          },
          "metadata": {
            "tags": []
          },
          "execution_count": 28
        }
      ]
    },
    {
      "cell_type": "code",
      "metadata": {
        "colab": {
          "base_uri": "https://localhost:8080/"
        },
        "id": "Zud8jMy4Gmgp",
        "outputId": "75cd1fe3-294c-4c82-81e1-af0c5f6e68e1"
      },
      "source": [
        "\n",
        "\n",
        "pred = pipe.predict(test)\n",
        "y_true = [val for val in test[\"mentions_kb\"]]\n",
        "\n",
        "print(\"Length of training set: {}\".format(len(train_df)))\n",
        "print(\"Length of testing set: {}\".format(len(test_df)))\n",
        "\n",
        "lines()\n",
        "\n",
        "print(classification_report(y_true, pred))\n",
        "print(f1_score(y_true,pred))"
      ],
      "execution_count": null,
      "outputs": [
        {
          "output_type": "stream",
          "text": [
            "Length of training set: 394\n",
            "Length of testing set: 105\n",
            "\n",
            "---------------\n",
            "\n",
            "              precision    recall  f1-score   support\n",
            "\n",
            "       False       0.70      0.88      0.78        59\n",
            "        True       0.73      0.46      0.57        41\n",
            "\n",
            "    accuracy                           0.71       100\n",
            "   macro avg       0.72      0.67      0.67       100\n",
            "weighted avg       0.71      0.71      0.69       100\n",
            "\n",
            "0.5671641791044776\n"
          ],
          "name": "stdout"
        }
      ]
    },
    {
      "cell_type": "markdown",
      "metadata": {
        "id": "C1n5rNIzqNcr"
      },
      "source": [
        "### Running full test of V2"
      ]
    },
    {
      "cell_type": "code",
      "metadata": {
        "id": "pRgmD5cdqRuL"
      },
      "source": [
        "# Preprocessing\n",
        "\n",
        "reviews_with_kb_Truedf = reviewsTruedf\n",
        "\n",
        "reviews_with_kb_Truedf[\"key_benefits\"] = ''\n",
        "\n",
        "for index, row in reviews_with_kb_Truedf.iterrows():\n",
        "  concated_kb = ''\n",
        "  for kb in keyBen(row[\"app_id\"])[\"description\"].iteritems():\n",
        "    concated_kb = concated_kb + \" \" + str(kb[1])\n",
        "  # print(concated_kb)\n",
        "  reviews_with_kb_Truedf.loc[index,\"key_benefits\"] = concated_kb\n",
        "\n",
        "# Split horisontal\n",
        "\n",
        "cf_reports_horisontal = []\n",
        "\n",
        "RANDOM_STATE = 23\n",
        "\n",
        "random.seed(a=RANDOM_STATE, version=2)\n",
        "\n",
        "for i in range(100):\n",
        "  print(\"Starting iteration {}\".format(i+1))\n",
        "  test_df, train_df = create_test_train(reviews_with_kb_Truedf, test_size=0.2)\n",
        "  \n",
        "  # Training\n",
        "  \n",
        "  pipe = Pipeline([('vectorizer', PairedSentenceVectorizer()),\n",
        "                   ('mlpclf', MLPClassifier(random_state=RANDOM_STATE, max_iter=2000, hidden_layer_sizes=(200, 200, 200, 200)))])\n",
        "  \n",
        "  train_df_target = [val for val in train_df[\"mentions_kb\"]]\n",
        "  train_df_feat = train_df\n",
        "  \n",
        "  pipe.fit(train_df_feat,train_df_target)\n",
        "  \n",
        "  # Testing\n",
        "  pred = pipe.predict(test_df)\n",
        "  \n",
        "  y_true = [val for val in test_df[\"mentions_kb\"]]\n",
        "\n",
        "  cf_report = classification_report(y_true, pred, output_dict=True)\n",
        "  cf_reports_horisontal.append(cf_report)"
      ],
      "execution_count": null,
      "outputs": []
    },
    {
      "cell_type": "code",
      "metadata": {
        "colab": {
          "base_uri": "https://localhost:8080/"
        },
        "id": "PGmLcii1zCs6",
        "outputId": "fd44d666-1b2e-4df2-97ae-a74b48361c29"
      },
      "source": [
        "# Split vertical\n",
        "\n",
        "cf_reports_vertical = []\n",
        "\n",
        "appids = [id for id in reviews_with_kb_Truedf[\"app_id\"].unique()]\n",
        "\n",
        "for test_app_id in appids:\n",
        "  print(\"App {} is left out\".format(test_app_id))\n",
        "  index_test = reviews_with_kb_Truedf[reviews_with_kb_Truedf[\"app_id\"]==test_app_id].index\n",
        "  test = reviews_with_kb_Truedf.loc[reviews_with_kb_Truedf.index.isin(index_test)]\n",
        "  train = reviews_with_kb_Truedf.loc[~reviews_with_kb_Truedf.index.isin(index_test)]\n",
        "\n",
        "  # Training\n",
        "  pipe = Pipeline([('vectorizer', PairedSentenceVectorizer()),\n",
        "                 ('mlpclf', MLPClassifier(random_state=RANDOM_STATE, max_iter=2000, hidden_layer_sizes=(200, 200, 200, 200)))])\n",
        "  \n",
        "  train_df_target = [val for val in train[\"mentions_kb\"]]\n",
        "  train_df_feat = train\n",
        "  pipe.fit(train_df_feat,train_df_target)\n",
        "\n",
        "  # Testing\n",
        "  pred = pipe.predict(test)\n",
        "  y_true = [val for val in test[\"mentions_kb\"]]\n",
        "  cf_report = classification_report(y_true, pred, output_dict=True)\n",
        "  cf_reports_vertical.append(cf_report)"
      ],
      "execution_count": null,
      "outputs": [
        {
          "output_type": "stream",
          "text": [
            "App 4ee3c37d-7ad9-4a98-83d0-7b3ff8cf6cfb is left out\n",
            "App 94e77128-9474-4076-b4a1-2ac6b880c8f3 is left out\n",
            "App d4d7e4ca-d939-4e8a-857c-37dc62db7c22 is left out\n",
            "App 2264513f-8aa0-4836-92b6-362976e76b54 is left out\n",
            "App c769a28f-379a-4346-8871-915b558a099d is left out\n"
          ],
          "name": "stdout"
        }
      ]
    },
    {
      "cell_type": "code",
      "metadata": {
        "colab": {
          "base_uri": "https://localhost:8080/"
        },
        "id": "oO60QzeHwGYU",
        "outputId": "e0e9ba08-574a-4a7e-ea5c-8ac47127690a"
      },
      "source": [
        "print(cf_reports_horisontal)\n",
        "lines()\n",
        "print(cf_reports_vertical)\n"
      ],
      "execution_count": null,
      "outputs": [
        {
          "output_type": "stream",
          "text": [
            "[{'False': {'precision': 0.8536585365853658, 'recall': 0.9090909090909091, 'f1-score': 0.880503144654088, 'support': 77}, 'True': {'precision': 0.6956521739130435, 'recall': 0.5714285714285714, 'f1-score': 0.6274509803921569, 'support': 28}, 'accuracy': 0.819047619047619, 'macro avg': {'precision': 0.7746553552492046, 'recall': 0.7402597402597402, 'f1-score': 0.7539770625231224, 'support': 105}, 'weighted avg': {'precision': 0.8115235065394133, 'recall': 0.819047619047619, 'f1-score': 0.8130225675175731, 'support': 105}}, {'False': {'precision': 0.8518518518518519, 'recall': 0.8961038961038961, 'f1-score': 0.8734177215189873, 'support': 77}, 'True': {'precision': 0.6666666666666666, 'recall': 0.5714285714285714, 'f1-score': 0.6153846153846153, 'support': 28}, 'accuracy': 0.8095238095238095, 'macro avg': {'precision': 0.7592592592592593, 'recall': 0.7337662337662337, 'f1-score': 0.7444011684518013, 'support': 105}, 'weighted avg': {'precision': 0.8024691358024693, 'recall': 0.8095238095238095, 'f1-score': 0.8046088932164881, 'support': 105}}, {'False': {'precision': 0.8117647058823529, 'recall': 0.8961038961038961, 'f1-score': 0.8518518518518517, 'support': 77}, 'True': {'precision': 0.6, 'recall': 0.42857142857142855, 'f1-score': 0.5, 'support': 28}, 'accuracy': 0.7714285714285715, 'macro avg': {'precision': 0.7058823529411764, 'recall': 0.6623376623376623, 'f1-score': 0.6759259259259258, 'support': 105}, 'weighted avg': {'precision': 0.7552941176470589, 'recall': 0.7714285714285715, 'f1-score': 0.7580246913580245, 'support': 105}}, {'False': {'precision': 0.8701298701298701, 'recall': 0.8701298701298701, 'f1-score': 0.8701298701298701, 'support': 77}, 'True': {'precision': 0.6428571428571429, 'recall': 0.6428571428571429, 'f1-score': 0.6428571428571429, 'support': 28}, 'accuracy': 0.8095238095238095, 'macro avg': {'precision': 0.7564935064935066, 'recall': 0.7564935064935066, 'f1-score': 0.7564935064935066, 'support': 105}, 'weighted avg': {'precision': 0.8095238095238095, 'recall': 0.8095238095238095, 'f1-score': 0.8095238095238095, 'support': 105}}, {'False': {'precision': 0.8641975308641975, 'recall': 0.9090909090909091, 'f1-score': 0.8860759493670887, 'support': 77}, 'True': {'precision': 0.7083333333333334, 'recall': 0.6071428571428571, 'f1-score': 0.6538461538461539, 'support': 28}, 'accuracy': 0.8285714285714286, 'macro avg': {'precision': 0.7862654320987654, 'recall': 0.7581168831168831, 'f1-score': 0.7699610516066213, 'support': 105}, 'weighted avg': {'precision': 0.822633744855967, 'recall': 0.8285714285714286, 'f1-score': 0.8241480038948393, 'support': 105}}, {'False': {'precision': 0.8513513513513513, 'recall': 0.8181818181818182, 'f1-score': 0.8344370860927152, 'support': 77}, 'True': {'precision': 0.5483870967741935, 'recall': 0.6071428571428571, 'f1-score': 0.5762711864406779, 'support': 28}, 'accuracy': 0.7619047619047619, 'macro avg': {'precision': 0.6998692240627724, 'recall': 0.7126623376623377, 'f1-score': 0.7053541362666965, 'support': 105}, 'weighted avg': {'precision': 0.7705608834641092, 'recall': 0.7619047619047619, 'f1-score': 0.7655928461855052, 'support': 105}}, {'False': {'precision': 0.8461538461538461, 'recall': 0.8571428571428571, 'f1-score': 0.8516129032258064, 'support': 77}, 'True': {'precision': 0.5925925925925926, 'recall': 0.5714285714285714, 'f1-score': 0.5818181818181818, 'support': 28}, 'accuracy': 0.780952380952381, 'macro avg': {'precision': 0.7193732193732194, 'recall': 0.7142857142857142, 'f1-score': 0.7167155425219941, 'support': 105}, 'weighted avg': {'precision': 0.7785375118708452, 'recall': 0.780952380952381, 'f1-score': 0.779667644183773, 'support': 105}}, {'False': {'precision': 0.8472222222222222, 'recall': 0.7922077922077922, 'f1-score': 0.8187919463087249, 'support': 77}, 'True': {'precision': 0.5151515151515151, 'recall': 0.6071428571428571, 'f1-score': 0.5573770491803278, 'support': 28}, 'accuracy': 0.7428571428571429, 'macro avg': {'precision': 0.6811868686868687, 'recall': 0.6996753246753247, 'f1-score': 0.6880844977445264, 'support': 105}, 'weighted avg': {'precision': 0.7586700336700337, 'recall': 0.7428571428571429, 'f1-score': 0.7490813070744856, 'support': 105}}, {'False': {'precision': 0.8095238095238095, 'recall': 0.8831168831168831, 'f1-score': 0.84472049689441, 'support': 77}, 'True': {'precision': 0.5714285714285714, 'recall': 0.42857142857142855, 'f1-score': 0.48979591836734687, 'support': 28}, 'accuracy': 0.7619047619047619, 'macro avg': {'precision': 0.6904761904761905, 'recall': 0.6558441558441558, 'f1-score': 0.6672582076308784, 'support': 105}, 'weighted avg': {'precision': 0.7460317460317462, 'recall': 0.7619047619047619, 'f1-score': 0.7500739426205264, 'support': 105}}, {'False': {'precision': 0.825, 'recall': 0.8571428571428571, 'f1-score': 0.8407643312101911, 'support': 77}, 'True': {'precision': 0.56, 'recall': 0.5, 'f1-score': 0.5283018867924528, 'support': 28}, 'accuracy': 0.7619047619047619, 'macro avg': {'precision': 0.6925, 'recall': 0.6785714285714286, 'f1-score': 0.684533109001322, 'support': 105}, 'weighted avg': {'precision': 0.7543333333333333, 'recall': 0.7619047619047619, 'f1-score': 0.7574410126987943, 'support': 105}}, {'False': {'precision': 0.8518518518518519, 'recall': 0.8961038961038961, 'f1-score': 0.8734177215189873, 'support': 77}, 'True': {'precision': 0.6666666666666666, 'recall': 0.5714285714285714, 'f1-score': 0.6153846153846153, 'support': 28}, 'accuracy': 0.8095238095238095, 'macro avg': {'precision': 0.7592592592592593, 'recall': 0.7337662337662337, 'f1-score': 0.7444011684518013, 'support': 105}, 'weighted avg': {'precision': 0.8024691358024693, 'recall': 0.8095238095238095, 'f1-score': 0.8046088932164881, 'support': 105}}, {'False': {'precision': 0.8860759493670886, 'recall': 0.9090909090909091, 'f1-score': 0.8974358974358974, 'support': 77}, 'True': {'precision': 0.7307692307692307, 'recall': 0.6785714285714286, 'f1-score': 0.7037037037037038, 'support': 28}, 'accuracy': 0.8476190476190476, 'macro avg': {'precision': 0.8084225900681596, 'recall': 0.7938311688311688, 'f1-score': 0.8005698005698005, 'support': 105}, 'weighted avg': {'precision': 0.8446608244076599, 'recall': 0.8476190476190476, 'f1-score': 0.8457739791073124, 'support': 105}}, {'False': {'precision': 0.8117647058823529, 'recall': 0.8961038961038961, 'f1-score': 0.8518518518518517, 'support': 77}, 'True': {'precision': 0.6, 'recall': 0.42857142857142855, 'f1-score': 0.5, 'support': 28}, 'accuracy': 0.7714285714285715, 'macro avg': {'precision': 0.7058823529411764, 'recall': 0.6623376623376623, 'f1-score': 0.6759259259259258, 'support': 105}, 'weighted avg': {'precision': 0.7552941176470589, 'recall': 0.7714285714285715, 'f1-score': 0.7580246913580245, 'support': 105}}, {'False': {'precision': 0.8235294117647058, 'recall': 0.9090909090909091, 'f1-score': 0.8641975308641976, 'support': 77}, 'True': {'precision': 0.65, 'recall': 0.4642857142857143, 'f1-score': 0.5416666666666667, 'support': 28}, 'accuracy': 0.7904761904761904, 'macro avg': {'precision': 0.736764705882353, 'recall': 0.6866883116883117, 'f1-score': 0.7029320987654322, 'support': 105}, 'weighted avg': {'precision': 0.7772549019607843, 'recall': 0.7904761904761904, 'f1-score': 0.7781893004115228, 'support': 105}}, {'False': {'precision': 0.8125, 'recall': 0.8441558441558441, 'f1-score': 0.8280254777070064, 'support': 77}, 'True': {'precision': 0.52, 'recall': 0.4642857142857143, 'f1-score': 0.49056603773584906, 'support': 28}, 'accuracy': 0.7428571428571429, 'macro avg': {'precision': 0.66625, 'recall': 0.6542207792207793, 'f1-score': 0.6592957577214278, 'support': 105}, 'weighted avg': {'precision': 0.7345, 'recall': 0.7428571428571429, 'f1-score': 0.7380362937146978, 'support': 105}}, {'False': {'precision': 0.8488372093023255, 'recall': 0.948051948051948, 'f1-score': 0.8957055214723927, 'support': 77}, 'True': {'precision': 0.7894736842105263, 'recall': 0.5357142857142857, 'f1-score': 0.6382978723404255, 'support': 28}, 'accuracy': 0.8380952380952381, 'macro avg': {'precision': 0.8191554467564259, 'recall': 0.7418831168831168, 'f1-score': 0.7670016969064091, 'support': 105}, 'weighted avg': {'precision': 0.8330069359445125, 'recall': 0.8380952380952381, 'f1-score': 0.8270634817038682, 'support': 105}}, {'False': {'precision': 0.8589743589743589, 'recall': 0.8701298701298701, 'f1-score': 0.8645161290322582, 'support': 77}, 'True': {'precision': 0.6296296296296297, 'recall': 0.6071428571428571, 'f1-score': 0.6181818181818182, 'support': 28}, 'accuracy': 0.8, 'macro avg': {'precision': 0.7443019943019943, 'recall': 0.7386363636363635, 'f1-score': 0.7413489736070382, 'support': 105}, 'weighted avg': {'precision': 0.7978157644824311, 'recall': 0.8, 'f1-score': 0.7988269794721409, 'support': 105}}, {'False': {'precision': 0.8666666666666667, 'recall': 0.8441558441558441, 'f1-score': 0.8552631578947368, 'support': 77}, 'True': {'precision': 0.6, 'recall': 0.6428571428571429, 'f1-score': 0.6206896551724138, 'support': 28}, 'accuracy': 0.7904761904761904, 'macro avg': {'precision': 0.7333333333333334, 'recall': 0.7435064935064934, 'f1-score': 0.7379764065335753, 'support': 105}, 'weighted avg': {'precision': 0.7955555555555556, 'recall': 0.7904761904761904, 'f1-score': 0.7927102238354508, 'support': 105}}, {'False': {'precision': 0.8433734939759037, 'recall': 0.9090909090909091, 'f1-score': 0.8750000000000001, 'support': 77}, 'True': {'precision': 0.6818181818181818, 'recall': 0.5357142857142857, 'f1-score': 0.6, 'support': 28}, 'accuracy': 0.8095238095238095, 'macro avg': {'precision': 0.7625958378970428, 'recall': 0.7224025974025974, 'f1-score': 0.7375, 'support': 105}, 'weighted avg': {'precision': 0.8002920774005111, 'recall': 0.8095238095238095, 'f1-score': 0.8016666666666667, 'support': 105}}, {'False': {'precision': 0.8518518518518519, 'recall': 0.8961038961038961, 'f1-score': 0.8734177215189873, 'support': 77}, 'True': {'precision': 0.6666666666666666, 'recall': 0.5714285714285714, 'f1-score': 0.6153846153846153, 'support': 28}, 'accuracy': 0.8095238095238095, 'macro avg': {'precision': 0.7592592592592593, 'recall': 0.7337662337662337, 'f1-score': 0.7444011684518013, 'support': 105}, 'weighted avg': {'precision': 0.8024691358024693, 'recall': 0.8095238095238095, 'f1-score': 0.8046088932164881, 'support': 105}}, {'False': {'precision': 0.8192771084337349, 'recall': 0.8831168831168831, 'f1-score': 0.85, 'support': 77}, 'True': {'precision': 0.5909090909090909, 'recall': 0.4642857142857143, 'f1-score': 0.52, 'support': 28}, 'accuracy': 0.7714285714285715, 'macro avg': {'precision': 0.7050930996714129, 'recall': 0.6737012987012987, 'f1-score': 0.685, 'support': 105}, 'weighted avg': {'precision': 0.7583789704271632, 'recall': 0.7714285714285715, 'f1-score': 0.762, 'support': 105}}, {'False': {'precision': 0.8372093023255814, 'recall': 0.935064935064935, 'f1-score': 0.8834355828220859, 'support': 77}, 'True': {'precision': 0.7368421052631579, 'recall': 0.5, 'f1-score': 0.5957446808510638, 'support': 28}, 'accuracy': 0.819047619047619, 'macro avg': {'precision': 0.7870257037943696, 'recall': 0.7175324675324675, 'f1-score': 0.7395901318365748, 'support': 105}, 'weighted avg': {'precision': 0.8104447164422686, 'recall': 0.819047619047619, 'f1-score': 0.8067180089631466, 'support': 105}}, {'False': {'precision': 0.8333333333333334, 'recall': 0.9090909090909091, 'f1-score': 0.8695652173913043, 'support': 77}, 'True': {'precision': 0.6666666666666666, 'recall': 0.5, 'f1-score': 0.5714285714285715, 'support': 28}, 'accuracy': 0.8, 'macro avg': {'precision': 0.75, 'recall': 0.7045454545454546, 'f1-score': 0.7204968944099379, 'support': 105}, 'weighted avg': {'precision': 0.788888888888889, 'recall': 0.8, 'f1-score': 0.7900621118012423, 'support': 105}}, {'False': {'precision': 0.8409090909090909, 'recall': 0.961038961038961, 'f1-score': 0.896969696969697, 'support': 77}, 'True': {'precision': 0.8235294117647058, 'recall': 0.5, 'f1-score': 0.6222222222222222, 'support': 28}, 'accuracy': 0.8380952380952381, 'macro avg': {'precision': 0.8322192513368984, 'recall': 0.7305194805194806, 'f1-score': 0.7595959595959596, 'support': 105}, 'weighted avg': {'precision': 0.8362745098039216, 'recall': 0.8380952380952381, 'f1-score': 0.8237037037037036, 'support': 105}}, {'False': {'precision': 0.8518518518518519, 'recall': 0.8961038961038961, 'f1-score': 0.8734177215189873, 'support': 77}, 'True': {'precision': 0.6666666666666666, 'recall': 0.5714285714285714, 'f1-score': 0.6153846153846153, 'support': 28}, 'accuracy': 0.8095238095238095, 'macro avg': {'precision': 0.7592592592592593, 'recall': 0.7337662337662337, 'f1-score': 0.7444011684518013, 'support': 105}, 'weighted avg': {'precision': 0.8024691358024693, 'recall': 0.8095238095238095, 'f1-score': 0.8046088932164881, 'support': 105}}, {'False': {'precision': 0.8554216867469879, 'recall': 0.922077922077922, 'f1-score': 0.8875, 'support': 77}, 'True': {'precision': 0.7272727272727273, 'recall': 0.5714285714285714, 'f1-score': 0.64, 'support': 28}, 'accuracy': 0.8285714285714286, 'macro avg': {'precision': 0.7913472070098576, 'recall': 0.7467532467532467, 'f1-score': 0.7637499999999999, 'support': 105}, 'weighted avg': {'precision': 0.821248630887185, 'recall': 0.8285714285714286, 'f1-score': 0.8214999999999999, 'support': 105}}, {'False': {'precision': 0.8333333333333334, 'recall': 0.9090909090909091, 'f1-score': 0.8695652173913043, 'support': 77}, 'True': {'precision': 0.6666666666666666, 'recall': 0.5, 'f1-score': 0.5714285714285715, 'support': 28}, 'accuracy': 0.8, 'macro avg': {'precision': 0.75, 'recall': 0.7045454545454546, 'f1-score': 0.7204968944099379, 'support': 105}, 'weighted avg': {'precision': 0.788888888888889, 'recall': 0.8, 'f1-score': 0.7900621118012423, 'support': 105}}, {'False': {'precision': 0.8536585365853658, 'recall': 0.9090909090909091, 'f1-score': 0.880503144654088, 'support': 77}, 'True': {'precision': 0.6956521739130435, 'recall': 0.5714285714285714, 'f1-score': 0.6274509803921569, 'support': 28}, 'accuracy': 0.819047619047619, 'macro avg': {'precision': 0.7746553552492046, 'recall': 0.7402597402597402, 'f1-score': 0.7539770625231224, 'support': 105}, 'weighted avg': {'precision': 0.8115235065394133, 'recall': 0.819047619047619, 'f1-score': 0.8130225675175731, 'support': 105}}, {'False': {'precision': 0.8735632183908046, 'recall': 0.987012987012987, 'f1-score': 0.9268292682926829, 'support': 77}, 'True': {'precision': 0.9444444444444444, 'recall': 0.6071428571428571, 'f1-score': 0.7391304347826088, 'support': 28}, 'accuracy': 0.8857142857142857, 'macro avg': {'precision': 0.9090038314176245, 'recall': 0.797077922077922, 'f1-score': 0.8329798515376459, 'support': 105}, 'weighted avg': {'precision': 0.8924648786717753, 'recall': 0.8857142857142857, 'f1-score': 0.8767762460233298, 'support': 105}}, {'False': {'precision': 0.868421052631579, 'recall': 0.8571428571428571, 'f1-score': 0.8627450980392157, 'support': 77}, 'True': {'precision': 0.6206896551724138, 'recall': 0.6428571428571429, 'f1-score': 0.6315789473684211, 'support': 28}, 'accuracy': 0.8, 'macro avg': {'precision': 0.7445553539019965, 'recall': 0.75, 'f1-score': 0.7471620227038185, 'support': 105}, 'weighted avg': {'precision': 0.8023593466424682, 'recall': 0.8, 'f1-score': 0.8011007911936705, 'support': 105}}, {'False': {'precision': 0.8354430379746836, 'recall': 0.8571428571428571, 'f1-score': 0.846153846153846, 'support': 77}, 'True': {'precision': 0.5769230769230769, 'recall': 0.5357142857142857, 'f1-score': 0.5555555555555555, 'support': 28}, 'accuracy': 0.7714285714285715, 'macro avg': {'precision': 0.7061830574488802, 'recall': 0.6964285714285714, 'f1-score': 0.7008547008547008, 'support': 105}, 'weighted avg': {'precision': 0.7665043816942552, 'recall': 0.7714285714285715, 'f1-score': 0.7686609686609686, 'support': 105}}, {'False': {'precision': 0.8131868131868132, 'recall': 0.961038961038961, 'f1-score': 0.880952380952381, 'support': 77}, 'True': {'precision': 0.7857142857142857, 'recall': 0.39285714285714285, 'f1-score': 0.5238095238095237, 'support': 28}, 'accuracy': 0.8095238095238095, 'macro avg': {'precision': 0.7994505494505495, 'recall': 0.676948051948052, 'f1-score': 0.7023809523809523, 'support': 105}, 'weighted avg': {'precision': 0.8058608058608059, 'recall': 0.8095238095238095, 'f1-score': 0.7857142857142857, 'support': 105}}, {'False': {'precision': 0.8333333333333334, 'recall': 0.9090909090909091, 'f1-score': 0.8695652173913043, 'support': 77}, 'True': {'precision': 0.6666666666666666, 'recall': 0.5, 'f1-score': 0.5714285714285715, 'support': 28}, 'accuracy': 0.8, 'macro avg': {'precision': 0.75, 'recall': 0.7045454545454546, 'f1-score': 0.7204968944099379, 'support': 105}, 'weighted avg': {'precision': 0.788888888888889, 'recall': 0.8, 'f1-score': 0.7900621118012423, 'support': 105}}, {'False': {'precision': 0.8470588235294118, 'recall': 0.935064935064935, 'f1-score': 0.888888888888889, 'support': 77}, 'True': {'precision': 0.75, 'recall': 0.5357142857142857, 'f1-score': 0.6250000000000001, 'support': 28}, 'accuracy': 0.8285714285714286, 'macro avg': {'precision': 0.7985294117647059, 'recall': 0.7353896103896104, 'f1-score': 0.7569444444444445, 'support': 105}, 'weighted avg': {'precision': 0.8211764705882353, 'recall': 0.8285714285714286, 'f1-score': 0.8185185185185185, 'support': 105}}, {'False': {'precision': 0.8148148148148148, 'recall': 0.8571428571428571, 'f1-score': 0.8354430379746836, 'support': 77}, 'True': {'precision': 0.5416666666666666, 'recall': 0.4642857142857143, 'f1-score': 0.5, 'support': 28}, 'accuracy': 0.7523809523809524, 'macro avg': {'precision': 0.6782407407407407, 'recall': 0.6607142857142857, 'f1-score': 0.6677215189873418, 'support': 105}, 'weighted avg': {'precision': 0.7419753086419753, 'recall': 0.7523809523809524, 'f1-score': 0.7459915611814346, 'support': 105}}, {'False': {'precision': 0.8181818181818182, 'recall': 0.8181818181818182, 'f1-score': 0.8181818181818182, 'support': 77}, 'True': {'precision': 0.5, 'recall': 0.5, 'f1-score': 0.5, 'support': 28}, 'accuracy': 0.7333333333333333, 'macro avg': {'precision': 0.6590909090909092, 'recall': 0.6590909090909092, 'f1-score': 0.6590909090909092, 'support': 105}, 'weighted avg': {'precision': 0.7333333333333333, 'recall': 0.7333333333333333, 'f1-score': 0.7333333333333333, 'support': 105}}, {'False': {'precision': 0.8536585365853658, 'recall': 0.9090909090909091, 'f1-score': 0.880503144654088, 'support': 77}, 'True': {'precision': 0.6956521739130435, 'recall': 0.5714285714285714, 'f1-score': 0.6274509803921569, 'support': 28}, 'accuracy': 0.819047619047619, 'macro avg': {'precision': 0.7746553552492046, 'recall': 0.7402597402597402, 'f1-score': 0.7539770625231224, 'support': 105}, 'weighted avg': {'precision': 0.8115235065394133, 'recall': 0.819047619047619, 'f1-score': 0.8130225675175731, 'support': 105}}, {'False': {'precision': 0.8095238095238095, 'recall': 0.8831168831168831, 'f1-score': 0.84472049689441, 'support': 77}, 'True': {'precision': 0.5714285714285714, 'recall': 0.42857142857142855, 'f1-score': 0.48979591836734687, 'support': 28}, 'accuracy': 0.7619047619047619, 'macro avg': {'precision': 0.6904761904761905, 'recall': 0.6558441558441558, 'f1-score': 0.6672582076308784, 'support': 105}, 'weighted avg': {'precision': 0.7460317460317462, 'recall': 0.7619047619047619, 'f1-score': 0.7500739426205264, 'support': 105}}, {'False': {'precision': 0.8717948717948718, 'recall': 0.8831168831168831, 'f1-score': 0.8774193548387098, 'support': 77}, 'True': {'precision': 0.6666666666666666, 'recall': 0.6428571428571429, 'f1-score': 0.6545454545454545, 'support': 28}, 'accuracy': 0.819047619047619, 'macro avg': {'precision': 0.7692307692307692, 'recall': 0.762987012987013, 'f1-score': 0.7659824046920822, 'support': 105}, 'weighted avg': {'precision': 0.8170940170940171, 'recall': 0.819047619047619, 'f1-score': 0.8179863147605084, 'support': 105}}, {'False': {'precision': 0.8352941176470589, 'recall': 0.922077922077922, 'f1-score': 0.8765432098765432, 'support': 77}, 'True': {'precision': 0.7, 'recall': 0.5, 'f1-score': 0.5833333333333334, 'support': 28}, 'accuracy': 0.8095238095238095, 'macro avg': {'precision': 0.7676470588235293, 'recall': 0.711038961038961, 'f1-score': 0.7299382716049383, 'support': 105}, 'weighted avg': {'precision': 0.7992156862745097, 'recall': 0.8095238095238095, 'f1-score': 0.7983539094650206, 'support': 105}}, {'False': {'precision': 0.8470588235294118, 'recall': 0.935064935064935, 'f1-score': 0.888888888888889, 'support': 77}, 'True': {'precision': 0.75, 'recall': 0.5357142857142857, 'f1-score': 0.6250000000000001, 'support': 28}, 'accuracy': 0.8285714285714286, 'macro avg': {'precision': 0.7985294117647059, 'recall': 0.7353896103896104, 'f1-score': 0.7569444444444445, 'support': 105}, 'weighted avg': {'precision': 0.8211764705882353, 'recall': 0.8285714285714286, 'f1-score': 0.8185185185185185, 'support': 105}}, {'False': {'precision': 0.8089887640449438, 'recall': 0.935064935064935, 'f1-score': 0.8674698795180723, 'support': 77}, 'True': {'precision': 0.6875, 'recall': 0.39285714285714285, 'f1-score': 0.5, 'support': 28}, 'accuracy': 0.7904761904761904, 'macro avg': {'precision': 0.7482443820224719, 'recall': 0.663961038961039, 'f1-score': 0.6837349397590362, 'support': 105}, 'weighted avg': {'precision': 0.7765917602996254, 'recall': 0.7904761904761904, 'f1-score': 0.7694779116465864, 'support': 105}}, {'False': {'precision': 0.9078947368421053, 'recall': 0.8961038961038961, 'f1-score': 0.9019607843137255, 'support': 77}, 'True': {'precision': 0.7241379310344828, 'recall': 0.75, 'f1-score': 0.736842105263158, 'support': 28}, 'accuracy': 0.8571428571428571, 'macro avg': {'precision': 0.816016333938294, 'recall': 0.823051948051948, 'f1-score': 0.8194014447884417, 'support': 105}, 'weighted avg': {'precision': 0.8588929219600727, 'recall': 0.8571428571428571, 'f1-score': 0.8579291365669075, 'support': 105}}, {'False': {'precision': 0.8536585365853658, 'recall': 0.9090909090909091, 'f1-score': 0.880503144654088, 'support': 77}, 'True': {'precision': 0.6956521739130435, 'recall': 0.5714285714285714, 'f1-score': 0.6274509803921569, 'support': 28}, 'accuracy': 0.819047619047619, 'macro avg': {'precision': 0.7746553552492046, 'recall': 0.7402597402597402, 'f1-score': 0.7539770625231224, 'support': 105}, 'weighted avg': {'precision': 0.8115235065394133, 'recall': 0.819047619047619, 'f1-score': 0.8130225675175731, 'support': 105}}, {'False': {'precision': 0.8620689655172413, 'recall': 0.974025974025974, 'f1-score': 0.9146341463414633, 'support': 77}, 'True': {'precision': 0.8888888888888888, 'recall': 0.5714285714285714, 'f1-score': 0.6956521739130435, 'support': 28}, 'accuracy': 0.8666666666666667, 'macro avg': {'precision': 0.8754789272030651, 'recall': 0.7727272727272727, 'f1-score': 0.8051431601272534, 'support': 105}, 'weighted avg': {'precision': 0.8692209450830141, 'recall': 0.8666666666666667, 'f1-score': 0.8562389536938847, 'support': 105}}, {'False': {'precision': 0.8554216867469879, 'recall': 0.922077922077922, 'f1-score': 0.8875, 'support': 77}, 'True': {'precision': 0.7272727272727273, 'recall': 0.5714285714285714, 'f1-score': 0.64, 'support': 28}, 'accuracy': 0.8285714285714286, 'macro avg': {'precision': 0.7913472070098576, 'recall': 0.7467532467532467, 'f1-score': 0.7637499999999999, 'support': 105}, 'weighted avg': {'precision': 0.821248630887185, 'recall': 0.8285714285714286, 'f1-score': 0.8214999999999999, 'support': 105}}, {'False': {'precision': 0.8068181818181818, 'recall': 0.922077922077922, 'f1-score': 0.8606060606060606, 'support': 77}, 'True': {'precision': 0.6470588235294118, 'recall': 0.39285714285714285, 'f1-score': 0.4888888888888888, 'support': 28}, 'accuracy': 0.780952380952381, 'macro avg': {'precision': 0.7269385026737968, 'recall': 0.6574675324675324, 'f1-score': 0.6747474747474747, 'support': 105}, 'weighted avg': {'precision': 0.7642156862745098, 'recall': 0.780952380952381, 'f1-score': 0.7614814814814814, 'support': 105}}, {'False': {'precision': 0.8414634146341463, 'recall': 0.8961038961038961, 'f1-score': 0.8679245283018868, 'support': 77}, 'True': {'precision': 0.6521739130434783, 'recall': 0.5357142857142857, 'f1-score': 0.5882352941176471, 'support': 28}, 'accuracy': 0.8, 'macro avg': {'precision': 0.7468186638388123, 'recall': 0.7159090909090908, 'f1-score': 0.7280799112097669, 'support': 105}, 'weighted avg': {'precision': 0.7909862142099682, 'recall': 0.8, 'f1-score': 0.7933407325194228, 'support': 105}}, {'False': {'precision': 0.8607594936708861, 'recall': 0.8831168831168831, 'f1-score': 0.8717948717948718, 'support': 77}, 'True': {'precision': 0.6538461538461539, 'recall': 0.6071428571428571, 'f1-score': 0.6296296296296297, 'support': 28}, 'accuracy': 0.8095238095238095, 'macro avg': {'precision': 0.75730282375852, 'recall': 0.7451298701298701, 'f1-score': 0.7507122507122508, 'support': 105}, 'weighted avg': {'precision': 0.8055826030509575, 'recall': 0.8095238095238095, 'f1-score': 0.8072174738841406, 'support': 105}}, {'False': {'precision': 0.8571428571428571, 'recall': 0.8571428571428571, 'f1-score': 0.8571428571428571, 'support': 77}, 'True': {'precision': 0.6071428571428571, 'recall': 0.6071428571428571, 'f1-score': 0.6071428571428571, 'support': 28}, 'accuracy': 0.7904761904761904, 'macro avg': {'precision': 0.7321428571428571, 'recall': 0.7321428571428571, 'f1-score': 0.7321428571428571, 'support': 105}, 'weighted avg': {'precision': 0.7904761904761904, 'recall': 0.7904761904761904, 'f1-score': 0.7904761904761904, 'support': 105}}, {'False': {'precision': 0.8536585365853658, 'recall': 0.9090909090909091, 'f1-score': 0.880503144654088, 'support': 77}, 'True': {'precision': 0.6956521739130435, 'recall': 0.5714285714285714, 'f1-score': 0.6274509803921569, 'support': 28}, 'accuracy': 0.819047619047619, 'macro avg': {'precision': 0.7746553552492046, 'recall': 0.7402597402597402, 'f1-score': 0.7539770625231224, 'support': 105}, 'weighted avg': {'precision': 0.8115235065394133, 'recall': 0.819047619047619, 'f1-score': 0.8130225675175731, 'support': 105}}, {'False': {'precision': 0.8571428571428571, 'recall': 0.935064935064935, 'f1-score': 0.8944099378881988, 'support': 77}, 'True': {'precision': 0.7619047619047619, 'recall': 0.5714285714285714, 'f1-score': 0.6530612244897959, 'support': 28}, 'accuracy': 0.8380952380952381, 'macro avg': {'precision': 0.8095238095238095, 'recall': 0.7532467532467533, 'f1-score': 0.7737355811889973, 'support': 105}, 'weighted avg': {'precision': 0.8317460317460317, 'recall': 0.8380952380952381, 'f1-score': 0.830050280981958, 'support': 105}}, {'False': {'precision': 0.8518518518518519, 'recall': 0.8961038961038961, 'f1-score': 0.8734177215189873, 'support': 77}, 'True': {'precision': 0.6666666666666666, 'recall': 0.5714285714285714, 'f1-score': 0.6153846153846153, 'support': 28}, 'accuracy': 0.8095238095238095, 'macro avg': {'precision': 0.7592592592592593, 'recall': 0.7337662337662337, 'f1-score': 0.7444011684518013, 'support': 105}, 'weighted avg': {'precision': 0.8024691358024693, 'recall': 0.8095238095238095, 'f1-score': 0.8046088932164881, 'support': 105}}, {'False': {'precision': 0.8023255813953488, 'recall': 0.8961038961038961, 'f1-score': 0.8466257668711655, 'support': 77}, 'True': {'precision': 0.5789473684210527, 'recall': 0.39285714285714285, 'f1-score': 0.46808510638297873, 'support': 28}, 'accuracy': 0.7619047619047619, 'macro avg': {'precision': 0.6906364749082008, 'recall': 0.6444805194805194, 'f1-score': 0.6573554366270722, 'support': 105}, 'weighted avg': {'precision': 0.7427580579355365, 'recall': 0.7619047619047619, 'f1-score': 0.7456815907409824, 'support': 105}}, {'False': {'precision': 0.8536585365853658, 'recall': 0.9090909090909091, 'f1-score': 0.880503144654088, 'support': 77}, 'True': {'precision': 0.6956521739130435, 'recall': 0.5714285714285714, 'f1-score': 0.6274509803921569, 'support': 28}, 'accuracy': 0.819047619047619, 'macro avg': {'precision': 0.7746553552492046, 'recall': 0.7402597402597402, 'f1-score': 0.7539770625231224, 'support': 105}, 'weighted avg': {'precision': 0.8115235065394133, 'recall': 0.819047619047619, 'f1-score': 0.8130225675175731, 'support': 105}}, {'False': {'precision': 0.8607594936708861, 'recall': 0.8831168831168831, 'f1-score': 0.8717948717948718, 'support': 77}, 'True': {'precision': 0.6538461538461539, 'recall': 0.6071428571428571, 'f1-score': 0.6296296296296297, 'support': 28}, 'accuracy': 0.8095238095238095, 'macro avg': {'precision': 0.75730282375852, 'recall': 0.7451298701298701, 'f1-score': 0.7507122507122508, 'support': 105}, 'weighted avg': {'precision': 0.8055826030509575, 'recall': 0.8095238095238095, 'f1-score': 0.8072174738841406, 'support': 105}}, {'False': {'precision': 0.813953488372093, 'recall': 0.9090909090909091, 'f1-score': 0.8588957055214723, 'support': 77}, 'True': {'precision': 0.631578947368421, 'recall': 0.42857142857142855, 'f1-score': 0.5106382978723404, 'support': 28}, 'accuracy': 0.780952380952381, 'macro avg': {'precision': 0.722766217870257, 'recall': 0.6688311688311688, 'f1-score': 0.6847670016969063, 'support': 105}, 'weighted avg': {'precision': 0.7653202774377805, 'recall': 0.780952380952381, 'f1-score': 0.7660270634817037, 'support': 105}}, {'False': {'precision': 0.7934782608695652, 'recall': 0.948051948051948, 'f1-score': 0.863905325443787, 'support': 77}, 'True': {'precision': 0.6923076923076923, 'recall': 0.32142857142857145, 'f1-score': 0.4390243902439025, 'support': 28}, 'accuracy': 0.780952380952381, 'macro avg': {'precision': 0.7428929765886287, 'recall': 0.6347402597402597, 'f1-score': 0.6514648578438447, 'support': 105}, 'weighted avg': {'precision': 0.7664994425863991, 'recall': 0.780952380952381, 'f1-score': 0.7506037427238178, 'support': 105}}, {'False': {'precision': 0.8780487804878049, 'recall': 0.935064935064935, 'f1-score': 0.9056603773584906, 'support': 77}, 'True': {'precision': 0.782608695652174, 'recall': 0.6428571428571429, 'f1-score': 0.7058823529411765, 'support': 28}, 'accuracy': 0.8571428571428571, 'macro avg': {'precision': 0.8303287380699894, 'recall': 0.788961038961039, 'f1-score': 0.8057713651498335, 'support': 105}, 'weighted avg': {'precision': 0.8525980911983033, 'recall': 0.8571428571428571, 'f1-score': 0.8523862375138734, 'support': 105}}, {'False': {'precision': 0.8452380952380952, 'recall': 0.922077922077922, 'f1-score': 0.8819875776397517, 'support': 77}, 'True': {'precision': 0.7142857142857143, 'recall': 0.5357142857142857, 'f1-score': 0.6122448979591837, 'support': 28}, 'accuracy': 0.819047619047619, 'macro avg': {'precision': 0.7797619047619048, 'recall': 0.7288961038961039, 'f1-score': 0.7471162377994677, 'support': 105}, 'weighted avg': {'precision': 0.8103174603174603, 'recall': 0.819047619047619, 'f1-score': 0.8100561963916001, 'support': 105}}, {'False': {'precision': 0.7802197802197802, 'recall': 0.922077922077922, 'f1-score': 0.8452380952380951, 'support': 77}, 'True': {'precision': 0.5714285714285714, 'recall': 0.2857142857142857, 'f1-score': 0.38095238095238093, 'support': 28}, 'accuracy': 0.7523809523809524, 'macro avg': {'precision': 0.6758241758241759, 'recall': 0.6038961038961039, 'f1-score': 0.613095238095238, 'support': 105}, 'weighted avg': {'precision': 0.7245421245421245, 'recall': 0.7523809523809524, 'f1-score': 0.7214285714285714, 'support': 105}}, {'False': {'precision': 0.8536585365853658, 'recall': 0.9090909090909091, 'f1-score': 0.880503144654088, 'support': 77}, 'True': {'precision': 0.6956521739130435, 'recall': 0.5714285714285714, 'f1-score': 0.6274509803921569, 'support': 28}, 'accuracy': 0.819047619047619, 'macro avg': {'precision': 0.7746553552492046, 'recall': 0.7402597402597402, 'f1-score': 0.7539770625231224, 'support': 105}, 'weighted avg': {'precision': 0.8115235065394133, 'recall': 0.819047619047619, 'f1-score': 0.8130225675175731, 'support': 105}}, {'False': {'precision': 0.8275862068965517, 'recall': 0.935064935064935, 'f1-score': 0.8780487804878049, 'support': 77}, 'True': {'precision': 0.7222222222222222, 'recall': 0.4642857142857143, 'f1-score': 0.5652173913043479, 'support': 28}, 'accuracy': 0.8095238095238095, 'macro avg': {'precision': 0.774904214559387, 'recall': 0.6996753246753247, 'f1-score': 0.7216330858960764, 'support': 105}, 'weighted avg': {'precision': 0.7994891443167306, 'recall': 0.8095238095238095, 'f1-score': 0.7946270767055497, 'support': 105}}, {'False': {'precision': 0.8518518518518519, 'recall': 0.8961038961038961, 'f1-score': 0.8734177215189873, 'support': 77}, 'True': {'precision': 0.6666666666666666, 'recall': 0.5714285714285714, 'f1-score': 0.6153846153846153, 'support': 28}, 'accuracy': 0.8095238095238095, 'macro avg': {'precision': 0.7592592592592593, 'recall': 0.7337662337662337, 'f1-score': 0.7444011684518013, 'support': 105}, 'weighted avg': {'precision': 0.8024691358024693, 'recall': 0.8095238095238095, 'f1-score': 0.8046088932164881, 'support': 105}}, {'False': {'precision': 0.8313253012048193, 'recall': 0.8961038961038961, 'f1-score': 0.8624999999999999, 'support': 77}, 'True': {'precision': 0.6363636363636364, 'recall': 0.5, 'f1-score': 0.56, 'support': 28}, 'accuracy': 0.7904761904761904, 'macro avg': {'precision': 0.7338444687842278, 'recall': 0.698051948051948, 'f1-score': 0.7112499999999999, 'support': 105}, 'weighted avg': {'precision': 0.7793355239138372, 'recall': 0.7904761904761904, 'f1-score': 0.7818333333333334, 'support': 105}}, {'False': {'precision': 0.8428571428571429, 'recall': 0.7662337662337663, 'f1-score': 0.8027210884353742, 'support': 77}, 'True': {'precision': 0.4857142857142857, 'recall': 0.6071428571428571, 'f1-score': 0.5396825396825397, 'support': 28}, 'accuracy': 0.7238095238095238, 'macro avg': {'precision': 0.6642857142857143, 'recall': 0.6866883116883117, 'f1-score': 0.6712018140589568, 'support': 105}, 'weighted avg': {'precision': 0.7476190476190476, 'recall': 0.7238095238095238, 'f1-score': 0.7325774754346184, 'support': 105}}, {'False': {'precision': 0.825, 'recall': 0.8571428571428571, 'f1-score': 0.8407643312101911, 'support': 77}, 'True': {'precision': 0.56, 'recall': 0.5, 'f1-score': 0.5283018867924528, 'support': 28}, 'accuracy': 0.7619047619047619, 'macro avg': {'precision': 0.6925, 'recall': 0.6785714285714286, 'f1-score': 0.684533109001322, 'support': 105}, 'weighted avg': {'precision': 0.7543333333333333, 'recall': 0.7619047619047619, 'f1-score': 0.7574410126987943, 'support': 105}}, {'False': {'precision': 0.7934782608695652, 'recall': 0.948051948051948, 'f1-score': 0.863905325443787, 'support': 77}, 'True': {'precision': 0.6923076923076923, 'recall': 0.32142857142857145, 'f1-score': 0.4390243902439025, 'support': 28}, 'accuracy': 0.780952380952381, 'macro avg': {'precision': 0.7428929765886287, 'recall': 0.6347402597402597, 'f1-score': 0.6514648578438447, 'support': 105}, 'weighted avg': {'precision': 0.7664994425863991, 'recall': 0.780952380952381, 'f1-score': 0.7506037427238178, 'support': 105}}, {'False': {'precision': 0.8023255813953488, 'recall': 0.8961038961038961, 'f1-score': 0.8466257668711655, 'support': 77}, 'True': {'precision': 0.5789473684210527, 'recall': 0.39285714285714285, 'f1-score': 0.46808510638297873, 'support': 28}, 'accuracy': 0.7619047619047619, 'macro avg': {'precision': 0.6906364749082008, 'recall': 0.6444805194805194, 'f1-score': 0.6573554366270722, 'support': 105}, 'weighted avg': {'precision': 0.7427580579355365, 'recall': 0.7619047619047619, 'f1-score': 0.7456815907409824, 'support': 105}}, {'False': {'precision': 0.8470588235294118, 'recall': 0.935064935064935, 'f1-score': 0.888888888888889, 'support': 77}, 'True': {'precision': 0.75, 'recall': 0.5357142857142857, 'f1-score': 0.6250000000000001, 'support': 28}, 'accuracy': 0.8285714285714286, 'macro avg': {'precision': 0.7985294117647059, 'recall': 0.7353896103896104, 'f1-score': 0.7569444444444445, 'support': 105}, 'weighted avg': {'precision': 0.8211764705882353, 'recall': 0.8285714285714286, 'f1-score': 0.8185185185185185, 'support': 105}}, {'False': {'precision': 0.8552631578947368, 'recall': 0.8441558441558441, 'f1-score': 0.8496732026143792, 'support': 77}, 'True': {'precision': 0.5862068965517241, 'recall': 0.6071428571428571, 'f1-score': 0.5964912280701754, 'support': 28}, 'accuracy': 0.780952380952381, 'macro avg': {'precision': 0.7207350272232305, 'recall': 0.7256493506493507, 'f1-score': 0.7230822153422773, 'support': 105}, 'weighted avg': {'precision': 0.7835148215366001, 'recall': 0.780952380952381, 'f1-score': 0.7821580094025914, 'support': 105}}, {'False': {'precision': 0.8648648648648649, 'recall': 0.8311688311688312, 'f1-score': 0.847682119205298, 'support': 77}, 'True': {'precision': 0.5806451612903226, 'recall': 0.6428571428571429, 'f1-score': 0.6101694915254238, 'support': 28}, 'accuracy': 0.780952380952381, 'macro avg': {'precision': 0.7227550130775937, 'recall': 0.7370129870129871, 'f1-score': 0.7289258053653609, 'support': 105}, 'weighted avg': {'precision': 0.7890729439116537, 'recall': 0.780952380952381, 'f1-score': 0.7843454184906649, 'support': 105}}, {'False': {'precision': 0.8421052631578947, 'recall': 0.8311688311688312, 'f1-score': 0.8366013071895425, 'support': 77}, 'True': {'precision': 0.5517241379310345, 'recall': 0.5714285714285714, 'f1-score': 0.5614035087719299, 'support': 28}, 'accuracy': 0.7619047619047619, 'macro avg': {'precision': 0.6969147005444646, 'recall': 0.7012987012987013, 'f1-score': 0.6990024079807362, 'support': 105}, 'weighted avg': {'precision': 0.764670296430732, 'recall': 0.7619047619047619, 'f1-score': 0.7632152276115125, 'support': 105}}, {'False': {'precision': 0.8648648648648649, 'recall': 0.8311688311688312, 'f1-score': 0.847682119205298, 'support': 77}, 'True': {'precision': 0.5806451612903226, 'recall': 0.6428571428571429, 'f1-score': 0.6101694915254238, 'support': 28}, 'accuracy': 0.780952380952381, 'macro avg': {'precision': 0.7227550130775937, 'recall': 0.7370129870129871, 'f1-score': 0.7289258053653609, 'support': 105}, 'weighted avg': {'precision': 0.7890729439116537, 'recall': 0.780952380952381, 'f1-score': 0.7843454184906649, 'support': 105}}, {'False': {'precision': 0.9387755102040817, 'recall': 0.5974025974025974, 'f1-score': 0.73015873015873, 'support': 77}, 'True': {'precision': 0.44642857142857145, 'recall': 0.8928571428571429, 'f1-score': 0.5952380952380952, 'support': 28}, 'accuracy': 0.6761904761904762, 'macro avg': {'precision': 0.6926020408163266, 'recall': 0.7451298701298701, 'f1-score': 0.6626984126984126, 'support': 105}, 'weighted avg': {'precision': 0.807482993197279, 'recall': 0.6761904761904762, 'f1-score': 0.694179894179894, 'support': 105}}, {'False': {'precision': 0.8666666666666667, 'recall': 0.8441558441558441, 'f1-score': 0.8552631578947368, 'support': 77}, 'True': {'precision': 0.6, 'recall': 0.6428571428571429, 'f1-score': 0.6206896551724138, 'support': 28}, 'accuracy': 0.7904761904761904, 'macro avg': {'precision': 0.7333333333333334, 'recall': 0.7435064935064934, 'f1-score': 0.7379764065335753, 'support': 105}, 'weighted avg': {'precision': 0.7955555555555556, 'recall': 0.7904761904761904, 'f1-score': 0.7927102238354508, 'support': 105}}, {'False': {'precision': 0.8690476190476191, 'recall': 0.948051948051948, 'f1-score': 0.906832298136646, 'support': 77}, 'True': {'precision': 0.8095238095238095, 'recall': 0.6071428571428571, 'f1-score': 0.6938775510204083, 'support': 28}, 'accuracy': 0.8571428571428571, 'macro avg': {'precision': 0.8392857142857143, 'recall': 0.7775974025974026, 'f1-score': 0.8003549245785271, 'support': 105}, 'weighted avg': {'precision': 0.8531746031746033, 'recall': 0.8571428571428571, 'f1-score': 0.850044365572316, 'support': 105}}, {'False': {'precision': 0.8452380952380952, 'recall': 0.922077922077922, 'f1-score': 0.8819875776397517, 'support': 77}, 'True': {'precision': 0.7142857142857143, 'recall': 0.5357142857142857, 'f1-score': 0.6122448979591837, 'support': 28}, 'accuracy': 0.819047619047619, 'macro avg': {'precision': 0.7797619047619048, 'recall': 0.7288961038961039, 'f1-score': 0.7471162377994677, 'support': 105}, 'weighted avg': {'precision': 0.8103174603174603, 'recall': 0.819047619047619, 'f1-score': 0.8100561963916001, 'support': 105}}, {'False': {'precision': 0.8433734939759037, 'recall': 0.9090909090909091, 'f1-score': 0.8750000000000001, 'support': 77}, 'True': {'precision': 0.6818181818181818, 'recall': 0.5357142857142857, 'f1-score': 0.6, 'support': 28}, 'accuracy': 0.8095238095238095, 'macro avg': {'precision': 0.7625958378970428, 'recall': 0.7224025974025974, 'f1-score': 0.7375, 'support': 105}, 'weighted avg': {'precision': 0.8002920774005111, 'recall': 0.8095238095238095, 'f1-score': 0.8016666666666667, 'support': 105}}, {'False': {'precision': 0.8227848101265823, 'recall': 0.8441558441558441, 'f1-score': 0.8333333333333334, 'support': 77}, 'True': {'precision': 0.5384615384615384, 'recall': 0.5, 'f1-score': 0.5185185185185186, 'support': 28}, 'accuracy': 0.7523809523809524, 'macro avg': {'precision': 0.6806231742940604, 'recall': 0.672077922077922, 'f1-score': 0.675925925925926, 'support': 105}, 'weighted avg': {'precision': 0.7469652710159039, 'recall': 0.7523809523809524, 'f1-score': 0.7493827160493828, 'support': 105}}, {'False': {'precision': 0.8554216867469879, 'recall': 0.922077922077922, 'f1-score': 0.8875, 'support': 77}, 'True': {'precision': 0.7272727272727273, 'recall': 0.5714285714285714, 'f1-score': 0.64, 'support': 28}, 'accuracy': 0.8285714285714286, 'macro avg': {'precision': 0.7913472070098576, 'recall': 0.7467532467532467, 'f1-score': 0.7637499999999999, 'support': 105}, 'weighted avg': {'precision': 0.821248630887185, 'recall': 0.8285714285714286, 'f1-score': 0.8214999999999999, 'support': 105}}, {'False': {'precision': 0.8333333333333334, 'recall': 0.9090909090909091, 'f1-score': 0.8695652173913043, 'support': 77}, 'True': {'precision': 0.6666666666666666, 'recall': 0.5, 'f1-score': 0.5714285714285715, 'support': 28}, 'accuracy': 0.8, 'macro avg': {'precision': 0.75, 'recall': 0.7045454545454546, 'f1-score': 0.7204968944099379, 'support': 105}, 'weighted avg': {'precision': 0.788888888888889, 'recall': 0.8, 'f1-score': 0.7900621118012423, 'support': 105}}, {'False': {'precision': 0.8620689655172413, 'recall': 0.974025974025974, 'f1-score': 0.9146341463414633, 'support': 77}, 'True': {'precision': 0.8888888888888888, 'recall': 0.5714285714285714, 'f1-score': 0.6956521739130435, 'support': 28}, 'accuracy': 0.8666666666666667, 'macro avg': {'precision': 0.8754789272030651, 'recall': 0.7727272727272727, 'f1-score': 0.8051431601272534, 'support': 105}, 'weighted avg': {'precision': 0.8692209450830141, 'recall': 0.8666666666666667, 'f1-score': 0.8562389536938847, 'support': 105}}, {'False': {'precision': 0.8607594936708861, 'recall': 0.8831168831168831, 'f1-score': 0.8717948717948718, 'support': 77}, 'True': {'precision': 0.6538461538461539, 'recall': 0.6071428571428571, 'f1-score': 0.6296296296296297, 'support': 28}, 'accuracy': 0.8095238095238095, 'macro avg': {'precision': 0.75730282375852, 'recall': 0.7451298701298701, 'f1-score': 0.7507122507122508, 'support': 105}, 'weighted avg': {'precision': 0.8055826030509575, 'recall': 0.8095238095238095, 'f1-score': 0.8072174738841406, 'support': 105}}, {'False': {'precision': 0.8918918918918919, 'recall': 0.8571428571428571, 'f1-score': 0.8741721854304636, 'support': 77}, 'True': {'precision': 0.6451612903225806, 'recall': 0.7142857142857143, 'f1-score': 0.6779661016949152, 'support': 28}, 'accuracy': 0.819047619047619, 'macro avg': {'precision': 0.7685265911072363, 'recall': 0.7857142857142857, 'f1-score': 0.7760691435626894, 'support': 105}, 'weighted avg': {'precision': 0.8260970648067423, 'recall': 0.819047619047619, 'f1-score': 0.821850563100984, 'support': 105}}, {'False': {'precision': 0.8536585365853658, 'recall': 0.9090909090909091, 'f1-score': 0.880503144654088, 'support': 77}, 'True': {'precision': 0.6956521739130435, 'recall': 0.5714285714285714, 'f1-score': 0.6274509803921569, 'support': 28}, 'accuracy': 0.819047619047619, 'macro avg': {'precision': 0.7746553552492046, 'recall': 0.7402597402597402, 'f1-score': 0.7539770625231224, 'support': 105}, 'weighted avg': {'precision': 0.8115235065394133, 'recall': 0.819047619047619, 'f1-score': 0.8130225675175731, 'support': 105}}, {'False': {'precision': 0.8390804597701149, 'recall': 0.948051948051948, 'f1-score': 0.8902439024390243, 'support': 77}, 'True': {'precision': 0.7777777777777778, 'recall': 0.5, 'f1-score': 0.6086956521739131, 'support': 28}, 'accuracy': 0.8285714285714286, 'macro avg': {'precision': 0.8084291187739463, 'recall': 0.724025974025974, 'f1-score': 0.7494697773064687, 'support': 105}, 'weighted avg': {'precision': 0.8227330779054918, 'recall': 0.8285714285714286, 'f1-score': 0.8151643690349947, 'support': 105}}, {'False': {'precision': 0.8588235294117647, 'recall': 0.948051948051948, 'f1-score': 0.9012345679012346, 'support': 77}, 'True': {'precision': 0.8, 'recall': 0.5714285714285714, 'f1-score': 0.6666666666666666, 'support': 28}, 'accuracy': 0.8476190476190476, 'macro avg': {'precision': 0.8294117647058823, 'recall': 0.7597402597402597, 'f1-score': 0.7839506172839505, 'support': 105}, 'weighted avg': {'precision': 0.8431372549019608, 'recall': 0.8476190476190476, 'f1-score': 0.8386831275720164, 'support': 105}}, {'False': {'precision': 0.8045977011494253, 'recall': 0.9090909090909091, 'f1-score': 0.8536585365853658, 'support': 77}, 'True': {'precision': 0.6111111111111112, 'recall': 0.39285714285714285, 'f1-score': 0.4782608695652174, 'support': 28}, 'accuracy': 0.7714285714285715, 'macro avg': {'precision': 0.7078544061302683, 'recall': 0.650974025974026, 'f1-score': 0.6659597030752916, 'support': 105}, 'weighted avg': {'precision': 0.7530012771392083, 'recall': 0.7714285714285715, 'f1-score': 0.7535524920466596, 'support': 105}}, {'False': {'precision': 0.8588235294117647, 'recall': 0.948051948051948, 'f1-score': 0.9012345679012346, 'support': 77}, 'True': {'precision': 0.8, 'recall': 0.5714285714285714, 'f1-score': 0.6666666666666666, 'support': 28}, 'accuracy': 0.8476190476190476, 'macro avg': {'precision': 0.8294117647058823, 'recall': 0.7597402597402597, 'f1-score': 0.7839506172839505, 'support': 105}, 'weighted avg': {'precision': 0.8431372549019608, 'recall': 0.8476190476190476, 'f1-score': 0.8386831275720164, 'support': 105}}, {'False': {'precision': 0.8414634146341463, 'recall': 0.8961038961038961, 'f1-score': 0.8679245283018868, 'support': 77}, 'True': {'precision': 0.6521739130434783, 'recall': 0.5357142857142857, 'f1-score': 0.5882352941176471, 'support': 28}, 'accuracy': 0.8, 'macro avg': {'precision': 0.7468186638388123, 'recall': 0.7159090909090908, 'f1-score': 0.7280799112097669, 'support': 105}, 'weighted avg': {'precision': 0.7909862142099682, 'recall': 0.8, 'f1-score': 0.7933407325194228, 'support': 105}}, {'False': {'precision': 0.8072289156626506, 'recall': 0.8701298701298701, 'f1-score': 0.8375, 'support': 77}, 'True': {'precision': 0.5454545454545454, 'recall': 0.42857142857142855, 'f1-score': 0.4799999999999999, 'support': 28}, 'accuracy': 0.7523809523809524, 'macro avg': {'precision': 0.676341730558598, 'recall': 0.6493506493506493, 'f1-score': 0.65875, 'support': 105}, 'weighted avg': {'precision': 0.7374224169404892, 'recall': 0.7523809523809524, 'f1-score': 0.7421666666666666, 'support': 105}}, {'False': {'precision': 0.8333333333333334, 'recall': 0.9090909090909091, 'f1-score': 0.8695652173913043, 'support': 77}, 'True': {'precision': 0.6666666666666666, 'recall': 0.5, 'f1-score': 0.5714285714285715, 'support': 28}, 'accuracy': 0.8, 'macro avg': {'precision': 0.75, 'recall': 0.7045454545454546, 'f1-score': 0.7204968944099379, 'support': 105}, 'weighted avg': {'precision': 0.788888888888889, 'recall': 0.8, 'f1-score': 0.7900621118012423, 'support': 105}}, {'False': {'precision': 0.8375, 'recall': 0.8701298701298701, 'f1-score': 0.8535031847133757, 'support': 77}, 'True': {'precision': 0.6, 'recall': 0.5357142857142857, 'f1-score': 0.5660377358490566, 'support': 28}, 'accuracy': 0.780952380952381, 'macro avg': {'precision': 0.71875, 'recall': 0.702922077922078, 'f1-score': 0.7097704602812162, 'support': 105}, 'weighted avg': {'precision': 0.7741666666666666, 'recall': 0.780952380952381, 'f1-score': 0.7768457316828906, 'support': 105}}, {'False': {'precision': 0.8414634146341463, 'recall': 0.8961038961038961, 'f1-score': 0.8679245283018868, 'support': 77}, 'True': {'precision': 0.6521739130434783, 'recall': 0.5357142857142857, 'f1-score': 0.5882352941176471, 'support': 28}, 'accuracy': 0.8, 'macro avg': {'precision': 0.7468186638388123, 'recall': 0.7159090909090908, 'f1-score': 0.7280799112097669, 'support': 105}, 'weighted avg': {'precision': 0.7909862142099682, 'recall': 0.8, 'f1-score': 0.7933407325194228, 'support': 105}}, {'False': {'precision': 0.8470588235294118, 'recall': 0.935064935064935, 'f1-score': 0.888888888888889, 'support': 77}, 'True': {'precision': 0.75, 'recall': 0.5357142857142857, 'f1-score': 0.6250000000000001, 'support': 28}, 'accuracy': 0.8285714285714286, 'macro avg': {'precision': 0.7985294117647059, 'recall': 0.7353896103896104, 'f1-score': 0.7569444444444445, 'support': 105}, 'weighted avg': {'precision': 0.8211764705882353, 'recall': 0.8285714285714286, 'f1-score': 0.8185185185185185, 'support': 105}}, {'False': {'precision': 0.8426966292134831, 'recall': 0.974025974025974, 'f1-score': 0.9036144578313253, 'support': 77}, 'True': {'precision': 0.875, 'recall': 0.5, 'f1-score': 0.6363636363636364, 'support': 28}, 'accuracy': 0.8476190476190476, 'macro avg': {'precision': 0.8588483146067416, 'recall': 0.737012987012987, 'f1-score': 0.7699890470974808, 'support': 105}, 'weighted avg': {'precision': 0.8513108614232209, 'recall': 0.8476190476190476, 'f1-score': 0.8323475721066083, 'support': 105}}, {'False': {'precision': 0.8860759493670886, 'recall': 0.9090909090909091, 'f1-score': 0.8974358974358974, 'support': 77}, 'True': {'precision': 0.7307692307692307, 'recall': 0.6785714285714286, 'f1-score': 0.7037037037037038, 'support': 28}, 'accuracy': 0.8476190476190476, 'macro avg': {'precision': 0.8084225900681596, 'recall': 0.7938311688311688, 'f1-score': 0.8005698005698005, 'support': 105}, 'weighted avg': {'precision': 0.8446608244076599, 'recall': 0.8476190476190476, 'f1-score': 0.8457739791073124, 'support': 105}}, {'False': {'precision': 0.8625, 'recall': 0.8961038961038961, 'f1-score': 0.8789808917197451, 'support': 77}, 'True': {'precision': 0.68, 'recall': 0.6071428571428571, 'f1-score': 0.6415094339622641, 'support': 28}, 'accuracy': 0.819047619047619, 'macro avg': {'precision': 0.77125, 'recall': 0.7516233766233766, 'f1-score': 0.7602451628410046, 'support': 105}, 'weighted avg': {'precision': 0.8138333333333335, 'recall': 0.819047619047619, 'f1-score': 0.8156551696510835, 'support': 105}}, {'False': {'precision': 0.7840909090909091, 'recall': 0.8961038961038961, 'f1-score': 0.8363636363636362, 'support': 77}, 'True': {'precision': 0.5294117647058824, 'recall': 0.32142857142857145, 'f1-score': 0.39999999999999997, 'support': 28}, 'accuracy': 0.7428571428571429, 'macro avg': {'precision': 0.6567513368983957, 'recall': 0.6087662337662337, 'f1-score': 0.618181818181818, 'support': 105}, 'weighted avg': {'precision': 0.7161764705882353, 'recall': 0.7428571428571429, 'f1-score': 0.72, 'support': 105}}]\n",
            "\n",
            "---------------\n",
            "\n",
            "[{'False': {'precision': 0.8191489361702128, 'recall': 1.0, 'f1-score': 0.9005847953216375, 'support': 77}, 'True': {'precision': 1.0, 'recall': 0.2608695652173913, 'f1-score': 0.41379310344827586, 'support': 23}, 'accuracy': 0.83, 'macro avg': {'precision': 0.9095744680851063, 'recall': 0.6304347826086957, 'f1-score': 0.6571889493849566, 'support': 100}, 'weighted avg': {'precision': 0.8607446808510639, 'recall': 0.83, 'f1-score': 0.7886227061907644, 'support': 100}}, {'False': {'precision': 0.9340659340659341, 'recall': 0.9550561797752809, 'f1-score': 0.9444444444444444, 'support': 89}, 'True': {'precision': 0.5555555555555556, 'recall': 0.45454545454545453, 'f1-score': 0.5, 'support': 11}, 'accuracy': 0.9, 'macro avg': {'precision': 0.7448107448107448, 'recall': 0.7048008171603677, 'f1-score': 0.7222222222222222, 'support': 100}, 'weighted avg': {'precision': 0.8924297924297925, 'recall': 0.9, 'f1-score': 0.8955555555555555, 'support': 100}}, {'False': {'precision': 0.85, 'recall': 0.6986301369863014, 'f1-score': 0.7669172932330827, 'support': 73}, 'True': {'precision': 0.4358974358974359, 'recall': 0.6538461538461539, 'f1-score': 0.523076923076923, 'support': 26}, 'accuracy': 0.6868686868686869, 'macro avg': {'precision': 0.6429487179487179, 'recall': 0.6762381454162276, 'f1-score': 0.6449971081550028, 'support': 99}, 'weighted avg': {'precision': 0.7412457912457912, 'recall': 0.6868686868686869, 'f1-score': 0.702878408141566, 'support': 99}}, {'False': {'precision': 0.8450704225352113, 'recall': 0.7792207792207793, 'f1-score': 0.8108108108108109, 'support': 77}, 'True': {'precision': 0.41379310344827586, 'recall': 0.5217391304347826, 'f1-score': 0.4615384615384615, 'support': 23}, 'accuracy': 0.72, 'macro avg': {'precision': 0.6294317629917435, 'recall': 0.6504799548277809, 'f1-score': 0.6361746361746362, 'support': 100}, 'weighted avg': {'precision': 0.7458766391452162, 'recall': 0.72, 'f1-score': 0.7304781704781704, 'support': 100}}, {'False': {'precision': 0.7272727272727273, 'recall': 0.8135593220338984, 'f1-score': 0.768, 'support': 59}, 'True': {'precision': 0.6764705882352942, 'recall': 0.5609756097560976, 'f1-score': 0.6133333333333334, 'support': 41}, 'accuracy': 0.71, 'macro avg': {'precision': 0.7018716577540107, 'recall': 0.687267465894998, 'f1-score': 0.6906666666666668, 'support': 100}, 'weighted avg': {'precision': 0.7064438502673798, 'recall': 0.71, 'f1-score': 0.7045866666666666, 'support': 100}}]\n"
          ],
          "name": "stdout"
        }
      ]
    },
    {
      "cell_type": "code",
      "metadata": {
        "colab": {
          "base_uri": "https://localhost:8080/",
          "height": 173
        },
        "id": "IGkrMttVxVf2",
        "outputId": "229c363b-c492-4f52-b873-88f6377ba2a2"
      },
      "source": [
        "pd.DataFrame.from_dict(cf_reports_horisontal[53])"
      ],
      "execution_count": null,
      "outputs": [
        {
          "output_type": "execute_result",
          "data": {
            "text/html": [
              "<div>\n",
              "<style scoped>\n",
              "    .dataframe tbody tr th:only-of-type {\n",
              "        vertical-align: middle;\n",
              "    }\n",
              "\n",
              "    .dataframe tbody tr th {\n",
              "        vertical-align: top;\n",
              "    }\n",
              "\n",
              "    .dataframe thead th {\n",
              "        text-align: right;\n",
              "    }\n",
              "</style>\n",
              "<table border=\"1\" class=\"dataframe\">\n",
              "  <thead>\n",
              "    <tr style=\"text-align: right;\">\n",
              "      <th></th>\n",
              "      <th>False</th>\n",
              "      <th>True</th>\n",
              "      <th>accuracy</th>\n",
              "      <th>macro avg</th>\n",
              "      <th>weighted avg</th>\n",
              "    </tr>\n",
              "  </thead>\n",
              "  <tbody>\n",
              "    <tr>\n",
              "      <th>precision</th>\n",
              "      <td>0.802326</td>\n",
              "      <td>0.578947</td>\n",
              "      <td>0.761905</td>\n",
              "      <td>0.690636</td>\n",
              "      <td>0.742758</td>\n",
              "    </tr>\n",
              "    <tr>\n",
              "      <th>recall</th>\n",
              "      <td>0.896104</td>\n",
              "      <td>0.392857</td>\n",
              "      <td>0.761905</td>\n",
              "      <td>0.644481</td>\n",
              "      <td>0.761905</td>\n",
              "    </tr>\n",
              "    <tr>\n",
              "      <th>f1-score</th>\n",
              "      <td>0.846626</td>\n",
              "      <td>0.468085</td>\n",
              "      <td>0.761905</td>\n",
              "      <td>0.657355</td>\n",
              "      <td>0.745682</td>\n",
              "    </tr>\n",
              "    <tr>\n",
              "      <th>support</th>\n",
              "      <td>77.000000</td>\n",
              "      <td>28.000000</td>\n",
              "      <td>0.761905</td>\n",
              "      <td>105.000000</td>\n",
              "      <td>105.000000</td>\n",
              "    </tr>\n",
              "  </tbody>\n",
              "</table>\n",
              "</div>"
            ],
            "text/plain": [
              "               False       True  accuracy   macro avg  weighted avg\n",
              "precision   0.802326   0.578947  0.761905    0.690636      0.742758\n",
              "recall      0.896104   0.392857  0.761905    0.644481      0.761905\n",
              "f1-score    0.846626   0.468085  0.761905    0.657355      0.745682\n",
              "support    77.000000  28.000000  0.761905  105.000000    105.000000"
            ]
          },
          "metadata": {
            "tags": []
          },
          "execution_count": 105
        }
      ]
    },
    {
      "cell_type": "code",
      "metadata": {
        "id": "aMuIgVwh0LvG"
      },
      "source": [
        "# Write results to file\n",
        "import json\n",
        "\n",
        "WORKDIR = '/content/drive/MyDrive/Skolan/TDDE16/project/Shopify-app-store-2021-01-06/'\n",
        "\n",
        "# Horisontal\n",
        "json_data = json.dumps(cf_reports_horisontal)\n",
        "f = open(WORKDIR + \"cf_reports_L4V2_horisontal.json\",\"w\")\n",
        "f.write(json_data)\n",
        "f.close()\n",
        "\n",
        "# Vertical\n",
        "json_data = json.dumps(cf_reports_vertical)\n",
        "f = open(WORKDIR + \"cf_reports_L4V2_vertical.json\",\"w\")\n",
        "f.write(json_data)\n",
        "f.close()\n",
        "\n"
      ],
      "execution_count": null,
      "outputs": []
    },
    {
      "cell_type": "code",
      "metadata": {
        "id": "zJDNLJRp1-sD"
      },
      "source": [
        "# Load results\n",
        "\n",
        "import json\n",
        "\n",
        "def js_r(filename: str):\n",
        "    with open(filename) as f_in:\n",
        "        return json.load(f_in)\n",
        "\n",
        "\n",
        "my_data = js_r(WORKDIR + \"cf_reports_vertical.json\")\n",
        "print(my_data)\n",
        "len(my_data)"
      ],
      "execution_count": null,
      "outputs": []
    },
    {
      "cell_type": "markdown",
      "metadata": {
        "id": "DzmGISq4IJ0K"
      },
      "source": [
        "## Creating baseline"
      ]
    },
    {
      "cell_type": "code",
      "metadata": {
        "id": "U8Ro_2Z0IO1n"
      },
      "source": [
        "from sklearn.dummy import DummyClassifier\n",
        "from sklearn.metrics import classification_report\n",
        "\n",
        "RANDOM_STATE = None\n",
        "\n",
        "cf_reports_baseline = []\n",
        "\n",
        "RANDOM_STATE = 23\n",
        "\n",
        "random.seed(a=RANDOM_STATE, version=2)\n",
        "\n",
        "iters = 100\n",
        "\n",
        "for i in range(iters):\n",
        "  print(\"Starting iteration {} of {}.\".format(i+1,iters))\n",
        "  test_df, train_df = create_test_train(reviewsTruedf, test_size=0.2)\n",
        "\n",
        "  # Training\n",
        "  dummy_class = DummyClassifier(strategy=\"uniform\", random_state=RANDOM_STATE)\n",
        "  dummy_class.fit(train_df[\"body\"], train_df[\"mentions_kb\"])\n",
        "\n",
        "  # Testing\n",
        "  dummy_pred = dummy_class.predict(test_df[\"body\"])\n",
        "  dummy_pred = [val for val in dummy_pred]\n",
        "  y_true = [val for val in test_df[\"mentions_kb\"]]\n",
        "\n",
        "  cf_report = classification_report(y_true, dummy_pred, output_dict=True)\n",
        "  cf_reports_baseline.append(cf_report)\n",
        "  # print(cf_report)\n",
        "\n",
        "\n"
      ],
      "execution_count": null,
      "outputs": []
    },
    {
      "cell_type": "code",
      "metadata": {
        "id": "pmr18irhXFSZ"
      },
      "source": [
        "# Write results to file\n",
        "import json\n",
        "\n",
        "WORKDIR = '/content/drive/MyDrive/Skolan/TDDE16/project/Shopify-app-store-2021-01-06/'\n",
        "\n",
        "json_data = json.dumps(cf_reports_baseline)\n",
        "f = open(WORKDIR + \"cf_reports_baseline.json\",\"w\")\n",
        "f.write(json_data)\n",
        "f.close()"
      ],
      "execution_count": null,
      "outputs": []
    },
    {
      "cell_type": "markdown",
      "metadata": {
        "id": "Tg46L2k4XTKV"
      },
      "source": [
        "## Calculating results"
      ]
    },
    {
      "cell_type": "code",
      "metadata": {
        "id": "NavAGpB4XYy9"
      },
      "source": [
        "# Load results\n",
        "\n",
        "import json\n",
        "WORKDIR = '/content/drive/MyDrive/Skolan/TDDE16/project/Shopify-app-store-2021-01-06/'\n",
        "\n",
        "def js_r(filename: str):\n",
        "    with open(filename) as f_in:\n",
        "        return json.load(f_in)\n",
        "\n",
        "\n",
        "cf_reports_baseline = js_r(WORKDIR + \"cf_reports_baseline.json\")\n",
        "cf_reports_L1 = js_r(WORKDIR + \"cf_reports_L1.json\")\n",
        "\n",
        "cf_reports_L4V1_horisontal = js_r(WORKDIR + \"cf_reports_L4V1_horisontal.json\")\n",
        "cf_reports_L4V1_vertical = js_r(WORKDIR + \"cf_reports_L4V1_vertical.json\")\n",
        "\n",
        "cf_reports_L4V2_horisontal = js_r(WORKDIR + \"cf_reports_L4V2_horisontal.json\")\n",
        "cf_reports_L4V2_vertical = js_r(WORKDIR + \"cf_reports_L4V2_vertical.json\")"
      ],
      "execution_count": null,
      "outputs": []
    },
    {
      "cell_type": "code",
      "metadata": {
        "id": "mF3M_QDj_FlH"
      },
      "source": [
        "def calculations_of_scores(cfr_arr):\n",
        "  false_vals = {\n",
        "      'precisions':[],\n",
        "      'recalls':[],\n",
        "      'f1-scores':[]\n",
        "      }\n",
        "  true_vals = {\n",
        "      'precisions':[],\n",
        "      'recalls':[],\n",
        "      'f1-scores':[]\n",
        "      }\n",
        "      \n",
        "  for cfr in cfr_arr:\n",
        "    false_vals[\"precisions\"].append(cfr[\"False\"][\"precision\"])\n",
        "    true_vals[\"precisions\"].append(cfr[\"True\"][\"precision\"])\n",
        "    \n",
        "    false_vals[\"recalls\"].append(cfr[\"False\"][\"recall\"])\n",
        "    true_vals[\"recalls\"].append(cfr[\"True\"][\"recall\"])\n",
        "    \n",
        "    false_vals[\"f1-scores\"].append(cfr[\"False\"][\"f1-score\"])\n",
        "    true_vals[\"f1-scores\"].append(cfr[\"True\"][\"f1-score\"])\n",
        "    \n",
        "  false_ret_val = {\n",
        "      'precision': {'mean': mean(false_vals[\"precisions\"]), 'median': median(false_vals[\"precisions\"]) },\n",
        "      'recall': {'mean': mean(false_vals[\"recalls\"]), 'median': median(false_vals[\"recalls\"]) },\n",
        "      'f1-score': {'mean': mean(false_vals[\"f1-scores\"]), 'median': median(false_vals[\"f1-scores\"]) },\n",
        "      }\n",
        "  true_ret_val = {\n",
        "      'precision': {'mean': mean(true_vals[\"precisions\"]), 'median': median(true_vals[\"precisions\"]) },\n",
        "      'recall': {'mean': mean(true_vals[\"recalls\"]), 'median': median(true_vals[\"recalls\"]) },\n",
        "      'f1-score': {'mean': mean(true_vals[\"f1-scores\"]), 'median': median(true_vals[\"f1-scores\"]) },\n",
        "      }\n",
        "\n",
        "  return {'True': true_ret_val, 'False': false_ret_val}\n",
        "\n",
        "results_cf_reports_L1 = calculations_of_scores(cf_reports_L1)\n",
        "results_cf_reports_L4V1_horisontal = calculations_of_scores(cf_reports_L4V1_horisontal)\n",
        "results_cf_reports_L4V1_vertical = calculations_of_scores(cf_reports_L4V1_vertical)\n",
        "results_cf_reports_L4V2_horisontal = calculations_of_scores(cf_reports_L4V2_horisontal)\n",
        "results_cf_reports_L4V2_vertical = calculations_of_scores(cf_reports_L4V2_vertical)\n",
        "\n",
        "results_cf_reports_baseline = calculations_of_scores(cf_reports_baseline)\n",
        "\n",
        "\n"
      ],
      "execution_count": null,
      "outputs": []
    },
    {
      "cell_type": "code",
      "metadata": {
        "colab": {
          "base_uri": "https://localhost:8080/"
        },
        "id": "jKvLgcDEIGFu",
        "outputId": "22175fc0-1ad6-46fd-fff1-46b91d306c02"
      },
      "source": [
        "results_cf_reports_baseline"
      ],
      "execution_count": null,
      "outputs": [
        {
          "output_type": "execute_result",
          "data": {
            "text/plain": [
              "{'False': {'f1-score': {'mean': 0.6065648854961831,\n",
              "   'median': 0.6030534351145038},\n",
              "  'precision': {'mean': 0.7357407407407407, 'median': 0.7314814814814814},\n",
              "  'recall': {'mean': 0.515974025974026, 'median': 0.5129870129870129}},\n",
              " 'True': {'f1-score': {'mean': 0.3475949367088607,\n",
              "   'median': 0.34177215189873417},\n",
              "  'precision': {'mean': 0.2692156862745098, 'median': 0.2647058823529412},\n",
              "  'recall': {'mean': 0.4903571428571428, 'median': 0.48214285714285715}}}"
            ]
          },
          "metadata": {
            "tags": []
          },
          "execution_count": 9
        }
      ]
    },
    {
      "cell_type": "code",
      "metadata": {
        "colab": {
          "base_uri": "https://localhost:8080/"
        },
        "id": "dsMEdzCeCls4",
        "outputId": "c9597e7c-1805-4925-b256-8f1da517495f"
      },
      "source": [
        "def create_df(dict_vals):\n",
        "  print(dict_vals)\n",
        "  iterables = [[\"precision\", \"recall\", \"f1-score\"], [\"mean\", \"median\"]]\n",
        "  index = pd.MultiIndex.from_product(iterables, names=[\"Metric\", \"\"])\n",
        "  cols = [\"True\",\"False\"]\n",
        "  df = pd.DataFrame(index=index, columns=cols)\n",
        "  i = 0\n",
        "  for index,row in df.iterrows():\n",
        "    for col in cols:\n",
        "      df.loc[index][col] = round(dict_vals[col][index[0]][index[1]],3)\n",
        "  return df\n",
        "\n",
        "df_results_cf_reports_L1 = create_df(results_cf_reports_L1)\n",
        "df_results_cf_reports_L4V1_horisontal = create_df(results_cf_reports_L4V1_horisontal)\n",
        "df_results_cf_reports_L4V1_vertical = create_df(results_cf_reports_L4V1_vertical)\n",
        "df_results_cf_reports_L4V2_horisontal = create_df(results_cf_reports_L4V2_horisontal)\n",
        "df_results_cf_reports_L4V2_vertical = create_df(results_cf_reports_L4V2_vertical)\n",
        "df_results_cf_reports_baseline = create_df(results_cf_reports_baseline)"
      ],
      "execution_count": null,
      "outputs": [
        {
          "output_type": "stream",
          "text": [
            "{'True': {'precision': {'mean': 0.28858585858585856, 'median': 0.18181818181818182}, 'recall': {'mean': 0.6311111111111111, 'median': 0.6666666666666666}, 'f1-score': {'mean': 0.37134178221134745, 'median': 0.2608695652173913}}, 'False': {'precision': {'mean': 0.7892307692307692, 'median': 0.7333333333333333}, 'recall': {'mean': 0.4161111111111111, 'median': 0.4375}, 'f1-score': {'mean': 0.4811566136184132, 'median': 0.5384615384615384}}}\n",
            "{'True': {'precision': {'mean': 0.6530631153122868, 'median': 0.65}, 'recall': {'mean': 0.5260714285714285, 'median': 0.5357142857142857}, 'f1-score': {'mean': 0.576528115754073, 'median': 0.5825757575757575}}, 'False': {'precision': {'mean': 0.8390476979522066, 'median': 0.8409090909090909}, 'recall': {'mean': 0.8936363636363636, 'median': 0.8961038961038961}, 'f1-score': {'mean': 0.8648031011408487, 'median': 0.8643568299482278}}}\n",
            "{'True': {'precision': {'mean': 0.6305555555555555, 'median': 0.5555555555555556}, 'recall': {'mean': 0.541605796112689, 'median': 0.6153846153846154}, 'f1-score': {'mean': 0.5681246947778388, 'median': 0.6}}, 'False': {'precision': {'mean': 0.8502419571636343, 'median': 0.8507462686567164}, 'recall': {'mean': 0.865123221334041, 'median': 0.8441558441558441}, 'f1-score': {'mean': 0.8565352161412867, 'median': 0.8322981366459626}}}\n",
            "{'True': {'precision': {'mean': 0.6653434329924691, 'median': 0.6666666666666666}, 'recall': {'mean': 0.5396428571428571, 'median': 0.5535714285714286}, 'f1-score': {'mean': 0.589407935765849, 'median': 0.6101694915254238}}, 'False': {'precision': {'mean': 0.8436715500645207, 'median': 0.8470588235294118}, 'recall': {'mean': 0.8961038961038961, 'median': 0.9090909090909091}, 'f1-score': {'mean': 0.86799236747856, 'median': 0.8717948717948718}}}\n",
            "{'True': {'precision': {'mean': 0.6163433366273123, 'median': 0.5555555555555556}, 'recall': {'mean': 0.49039518275997596, 'median': 0.5217391304347826}, 'f1-score': {'mean': 0.5023483642793988, 'median': 0.5}}, 'False': {'precision': {'mean': 0.8351116040088171, 'median': 0.8450704225352113}, 'recall': {'mean': 0.849293283603252, 'median': 0.8135593220338984}, 'f1-score': {'mean': 0.8381514687619951, 'median': 0.8108108108108109}}}\n",
            "{'True': {'precision': {'mean': 0.2692156862745098, 'median': 0.2647058823529412}, 'recall': {'mean': 0.4903571428571428, 'median': 0.48214285714285715}, 'f1-score': {'mean': 0.3475949367088607, 'median': 0.34177215189873417}}, 'False': {'precision': {'mean': 0.7357407407407407, 'median': 0.7314814814814814}, 'recall': {'mean': 0.515974025974026, 'median': 0.5129870129870129}, 'f1-score': {'mean': 0.6065648854961831, 'median': 0.6030534351145038}}}\n"
          ],
          "name": "stdout"
        }
      ]
    },
    {
      "cell_type": "code",
      "metadata": {
        "id": "uAdMf-mWer8a"
      },
      "source": [
        "dfs = [(df_results_cf_reports_L1,\"df_results_cf_reports_L1\"),\n",
        " (df_results_cf_reports_L4V1_horisontal,\"df_results_cf_reports_L4V1_horisontal\"),\n",
        " (df_results_cf_reports_L4V1_vertical,\"df_results_cf_reports_L4V1_vertical\"),\n",
        " (df_results_cf_reports_L4V2_horisontal,\"df_results_cf_reports_L4V2_horisontal\"),\n",
        " (df_results_cf_reports_L4V2_vertical,\"df_results_cf_reports_L4V2_vertical\"),\n",
        " (df_results_cf_reports_baseline,\"df_results_cf_reports_baseline\"),\n",
        " ]\n",
        "\n",
        "with pd.ExcelWriter(WORKDIR + 'output1.xlsx') as writer:\n",
        "  for df in dfs:\n",
        "    df[0].to_excel(writer, sheet_name=df[1])"
      ],
      "execution_count": null,
      "outputs": []
    },
    {
      "cell_type": "code",
      "metadata": {
        "id": "OyVPG_k1JUoh"
      },
      "source": [
        "dfs = [(df_results_cf_reports_L1,\"\\label{tab:df_results_cf_reports_L1}Your caption.\"),\n",
        " (df_results_cf_reports_L4V1_horisontal,\"\\label{tab:df_results_cf_reports_L4V1_horisontal}Your caption.\"),\n",
        " (df_results_cf_reports_L4V1_vertical,\"\\label{tab:df_results_cf_reports_L4V1_vertical}Your caption.\"),\n",
        " (df_results_cf_reports_L4V2_horisontal,\"\\label{tab:df_results_cf_reports_L4V2_horisontal}Your caption.\"),\n",
        " (df_results_cf_reports_L4V2_vertical,\"\\label{tab:df_results_cf_reports_L4V2_vertical}Your caption.\"),\n",
        " (df_results_cf_reports_baseline,\"\\label{tab:df_results_cf_reports_baseline}Your caption.\"),\n",
        " ]\n",
        "\n",
        "outstr = \"\"\n",
        "for df in dfs:\n",
        "  outstr = outstr + df[0].to_latex(caption=df[1]) + \"\\n\\n\\n\\n\"\n",
        "\n",
        "print(outstr)\n",
        "\n",
        "WORKDIR = '/content/drive/MyDrive/Skolan/TDDE16/project/Shopify-app-store-2021-01-06/'\n",
        "\n",
        "\n",
        "with open(WORKDIR + \"latex_tables.txt\", \"w\") as text_file:\n",
        "    text_file.write(outstr)\n"
      ],
      "execution_count": null,
      "outputs": []
    }
  ]
}